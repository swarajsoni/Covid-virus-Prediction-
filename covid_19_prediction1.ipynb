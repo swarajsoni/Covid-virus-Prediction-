{
 "cells": [
  {
   "cell_type": "markdown",
   "id": "937bc3df",
   "metadata": {},
   "source": [
    "# Covid 19 prediction"
   ]
  },
  {
   "cell_type": "markdown",
   "id": "70826eed",
   "metadata": {},
   "source": [
    "The acceleration and precision of COVID-19 diagnosis are critical in mitigating the impact of the pandemic on healthcare systems. To address this, predictive models leveraging various parameters have been developed to assess the likelihood of SARS-CoV-2 infection. These models, based on a dataset downloaded from the 'ABC' government website, comprise information from 278,848 individuals who underwent the RT-PCR test. The dataset encompasses 11 columns, featuring 8 key parameters suspected to play a pivotal role in predicting COVID-19 outcomes. The binary outcome variable indicates whether the test result is positive or negative for COVID-19. The temporal range of the data spans from 11th March 2020 to 30th April 2020. The dataset is partitioned into training and validation sets, considering data from 11th March to 15th April, with a subsequent split ratio of 4:1. The test set comprises data from 16th April to 30th April. This approach aims to facilitate the training and evaluation of predictive models, assisting medical professionals worldwide in optimizing patient care amid the ongoing healthcare resource constraints.\n",
    "\n",
    "\n",
    "1.Please perform all appropriate feature engineering tasks. \n",
    "\n",
    "2.Perform important data visualization techniques to find the pattern in data.\n",
    "\n",
    "3.Report characteristics of important features, such as total number and percentage of each category in a table format after performing all relevant tasks.\n",
    "\n",
    "4.Perform multiple machine learning models relevant to your hypothesis, justify your model.\n",
    "\n",
    "5.Perform important cost functions to justify which model is better. \n",
    "\n"
   ]
  },
  {
   "cell_type": "markdown",
   "id": "7e5fd852",
   "metadata": {},
   "source": [
    "The following list describes each of the dataset’s features used by the model: \n",
    "A. Basic information: \n",
    "\n",
    "1. ID (Individual ID)\n",
    "\n",
    "2. Sex (male/female). \n",
    "\n",
    "3. Age ≥60 above years (true/false) \n",
    "\n",
    "4. Test date (date when tested for COVID)\n",
    "\n",
    "\n",
    "B. Symptoms: \n",
    "\n",
    "5. Cough (true/false).\n",
    "\n",
    "6. Fever (true/false). \n",
    "\n",
    "7. Sore throat (true/false). \n",
    "\n",
    "8. Shortness of breath (true/false). \n",
    "\n",
    "9. Headache (true/false). "
   ]
  },
  {
   "cell_type": "markdown",
   "id": "4e53fe85",
   "metadata": {},
   "source": [
    "# Index \n",
    "### 1 - Data cleaning \n",
    "### 1 - DATA VISUALIZATION\n",
    "### 1 - Applying label encoding\n",
    "### 1 - Feature Selection chi-square Test¶\n",
    "### 1 - Model training\n",
    "### 1 - Cross validation¶\n",
    "### 1 - Xg_boost\n",
    "### 1 - App model \n",
    "### 1 - Sql query "
   ]
  },
  {
   "cell_type": "markdown",
   "id": "1da44c0d",
   "metadata": {},
   "source": [
    "## Data cleaning and visualization"
   ]
  },
  {
   "cell_type": "code",
   "execution_count": 4,
   "id": "a34875aa",
   "metadata": {},
   "outputs": [],
   "source": [
    "#import lib \n",
    "import pandas as pd\n",
    "import numpy as np\n",
    "import matplotlib as plt\n",
    "import seaborn as sns"
   ]
  },
  {
   "cell_type": "code",
   "execution_count": 4,
   "id": "9564241f",
   "metadata": {},
   "outputs": [
    {
     "name": "stderr",
     "output_type": "stream",
     "text": [
      "C:\\Users\\star\\AppData\\Local\\Temp\\ipykernel_19036\\1694790893.py:2: DtypeWarning: Columns (2,3,4,5,6) have mixed types. Specify dtype option on import or set low_memory=False.\n",
      "  df=pd.read_csv(r\"C:\\Users\\star\\Desktop\\corona_tested_006.csv\")\n"
     ]
    },
    {
     "data": {
      "text/html": [
       "<div>\n",
       "<style scoped>\n",
       "    .dataframe tbody tr th:only-of-type {\n",
       "        vertical-align: middle;\n",
       "    }\n",
       "\n",
       "    .dataframe tbody tr th {\n",
       "        vertical-align: top;\n",
       "    }\n",
       "\n",
       "    .dataframe thead th {\n",
       "        text-align: right;\n",
       "    }\n",
       "</style>\n",
       "<table border=\"1\" class=\"dataframe\">\n",
       "  <thead>\n",
       "    <tr style=\"text-align: right;\">\n",
       "      <th></th>\n",
       "      <th>Ind_ID</th>\n",
       "      <th>Test_date</th>\n",
       "      <th>Cough_symptoms</th>\n",
       "      <th>Fever</th>\n",
       "      <th>Sore_throat</th>\n",
       "      <th>Shortness_of_breath</th>\n",
       "      <th>Headache</th>\n",
       "      <th>Corona</th>\n",
       "      <th>Age_60_above</th>\n",
       "      <th>Sex</th>\n",
       "      <th>Known_contact</th>\n",
       "    </tr>\n",
       "  </thead>\n",
       "  <tbody>\n",
       "    <tr>\n",
       "      <th>0</th>\n",
       "      <td>1</td>\n",
       "      <td>11-03-2020</td>\n",
       "      <td>TRUE</td>\n",
       "      <td>FALSE</td>\n",
       "      <td>TRUE</td>\n",
       "      <td>FALSE</td>\n",
       "      <td>FALSE</td>\n",
       "      <td>negative</td>\n",
       "      <td>None</td>\n",
       "      <td>None</td>\n",
       "      <td>Abroad</td>\n",
       "    </tr>\n",
       "    <tr>\n",
       "      <th>1</th>\n",
       "      <td>2</td>\n",
       "      <td>11-03-2020</td>\n",
       "      <td>FALSE</td>\n",
       "      <td>TRUE</td>\n",
       "      <td>FALSE</td>\n",
       "      <td>FALSE</td>\n",
       "      <td>FALSE</td>\n",
       "      <td>positive</td>\n",
       "      <td>None</td>\n",
       "      <td>None</td>\n",
       "      <td>Abroad</td>\n",
       "    </tr>\n",
       "    <tr>\n",
       "      <th>2</th>\n",
       "      <td>3</td>\n",
       "      <td>11-03-2020</td>\n",
       "      <td>FALSE</td>\n",
       "      <td>TRUE</td>\n",
       "      <td>FALSE</td>\n",
       "      <td>FALSE</td>\n",
       "      <td>FALSE</td>\n",
       "      <td>positive</td>\n",
       "      <td>None</td>\n",
       "      <td>None</td>\n",
       "      <td>Abroad</td>\n",
       "    </tr>\n",
       "    <tr>\n",
       "      <th>3</th>\n",
       "      <td>4</td>\n",
       "      <td>11-03-2020</td>\n",
       "      <td>TRUE</td>\n",
       "      <td>FALSE</td>\n",
       "      <td>FALSE</td>\n",
       "      <td>FALSE</td>\n",
       "      <td>FALSE</td>\n",
       "      <td>negative</td>\n",
       "      <td>None</td>\n",
       "      <td>None</td>\n",
       "      <td>Abroad</td>\n",
       "    </tr>\n",
       "    <tr>\n",
       "      <th>4</th>\n",
       "      <td>5</td>\n",
       "      <td>11-03-2020</td>\n",
       "      <td>TRUE</td>\n",
       "      <td>FALSE</td>\n",
       "      <td>FALSE</td>\n",
       "      <td>FALSE</td>\n",
       "      <td>FALSE</td>\n",
       "      <td>negative</td>\n",
       "      <td>None</td>\n",
       "      <td>None</td>\n",
       "      <td>Contact with confirmed</td>\n",
       "    </tr>\n",
       "  </tbody>\n",
       "</table>\n",
       "</div>"
      ],
      "text/plain": [
       "   Ind_ID   Test_date Cough_symptoms  Fever Sore_throat Shortness_of_breath  \\\n",
       "0       1  11-03-2020           TRUE  FALSE        TRUE               FALSE   \n",
       "1       2  11-03-2020          FALSE   TRUE       FALSE               FALSE   \n",
       "2       3  11-03-2020          FALSE   TRUE       FALSE               FALSE   \n",
       "3       4  11-03-2020           TRUE  FALSE       FALSE               FALSE   \n",
       "4       5  11-03-2020           TRUE  FALSE       FALSE               FALSE   \n",
       "\n",
       "  Headache    Corona Age_60_above   Sex           Known_contact  \n",
       "0    FALSE  negative         None  None                  Abroad  \n",
       "1    FALSE  positive         None  None                  Abroad  \n",
       "2    FALSE  positive         None  None                  Abroad  \n",
       "3    FALSE  negative         None  None                  Abroad  \n",
       "4    FALSE  negative         None  None  Contact with confirmed  "
      ]
     },
     "execution_count": 4,
     "metadata": {},
     "output_type": "execute_result"
    }
   ],
   "source": [
    "#load_dataset\n",
    "df=pd.read_csv(r\"C:\\Users\\star\\Desktop\\corona_tested_006.csv\")\n",
    "df.head()"
   ]
  },
  {
   "cell_type": "code",
   "execution_count": 5,
   "id": "ab431b0f",
   "metadata": {},
   "outputs": [
    {
     "name": "stdout",
     "output_type": "stream",
     "text": [
      "<class 'pandas.core.frame.DataFrame'>\n",
      "RangeIndex: 278848 entries, 0 to 278847\n",
      "Data columns (total 11 columns):\n",
      " #   Column               Non-Null Count   Dtype \n",
      "---  ------               --------------   ----- \n",
      " 0   Ind_ID               278848 non-null  int64 \n",
      " 1   Test_date            278848 non-null  object\n",
      " 2   Cough_symptoms       278848 non-null  object\n",
      " 3   Fever                278848 non-null  object\n",
      " 4   Sore_throat          278848 non-null  object\n",
      " 5   Shortness_of_breath  278848 non-null  object\n",
      " 6   Headache             278848 non-null  object\n",
      " 7   Corona               278848 non-null  object\n",
      " 8   Age_60_above         278848 non-null  object\n",
      " 9   Sex                  278848 non-null  object\n",
      " 10  Known_contact        278848 non-null  object\n",
      "dtypes: int64(1), object(10)\n",
      "memory usage: 23.4+ MB\n"
     ]
    }
   ],
   "source": [
    "df.info()"
   ]
  },
  {
   "cell_type": "code",
   "execution_count": 6,
   "id": "5ec01d11",
   "metadata": {},
   "outputs": [
    {
     "data": {
      "text/plain": [
       "Ind_ID                 0\n",
       "Test_date              0\n",
       "Cough_symptoms         0\n",
       "Fever                  0\n",
       "Sore_throat            0\n",
       "Shortness_of_breath    0\n",
       "Headache               0\n",
       "Corona                 0\n",
       "Age_60_above           0\n",
       "Sex                    0\n",
       "Known_contact          0\n",
       "dtype: int64"
      ]
     },
     "execution_count": 6,
     "metadata": {},
     "output_type": "execute_result"
    }
   ],
   "source": [
    "df.isnull().sum()"
   ]
  },
  {
   "cell_type": "code",
   "execution_count": 9,
   "id": "b4f8ab35",
   "metadata": {},
   "outputs": [
    {
     "name": "stdout",
     "output_type": "stream",
     "text": [
      "Ind_ID : [     1      2      3 ... 278846 278847 278848]\n",
      "Test_date : ['11-03-2020' '12-03-2020' '13-03-2020' '14-03-2020' '15-03-2020'\n",
      " '16-03-2020' '17-03-2020' '18-03-2020' '19-03-2020' '20-03-2020'\n",
      " '21-03-2020' '22-03-2020' '23-03-2020' '24-03-2020' '25-03-2020'\n",
      " '26-03-2020' '27-03-2020' '28-03-2020' '29-03-2020' '30-03-2020'\n",
      " '31-03-2020' '01-04-2020' '02-04-2020' '03-04-2020' '04-04-2020'\n",
      " '05-04-2020' '06-04-2020' '07-04-2020' '08-04-2020' '09-04-2020'\n",
      " '10-04-2020' '11-04-2020' '12-04-2020' '13-04-2020' '14-04-2020'\n",
      " '15-04-2020' '16-04-2020' '17-04-2020' '18-04-2020' '19-04-2020'\n",
      " '20-04-2020' '21-04-2020' '22-04-2020' '23-04-2020' '24-04-2020'\n",
      " '25-04-2020' '26-04-2020' '27-04-2020' '28-04-2020' '29-04-2020'\n",
      " '30-04-2020']\n",
      "Cough_symptoms : ['TRUE' 'FALSE' 'None' False True]\n",
      "Fever : ['FALSE' 'TRUE' 'None' False True]\n",
      "Sore_throat : ['TRUE' 'FALSE' 'None' False True]\n",
      "Shortness_of_breath : ['FALSE' 'TRUE' 'None' False True]\n",
      "Headache : ['FALSE' 'TRUE' 'None' False True]\n",
      "Corona : ['negative' 'positive' 'other']\n",
      "Age_60_above : ['None' 'No' 'Yes']\n",
      "Sex : ['None' 'male' 'female']\n",
      "Known_contact : ['Abroad' 'Contact with confirmed' 'Other']\n"
     ]
    }
   ],
   "source": [
    "#check the all unique values table\n",
    "for i in df:\n",
    "  print(i, \":\", df[i].unique())"
   ]
  },
  {
   "cell_type": "code",
   "execution_count": 10,
   "id": "5d2ad831",
   "metadata": {},
   "outputs": [],
   "source": [
    "#convert True and False in right format\n",
    "df['Cough_symptoms']=df['Cough_symptoms'].apply(lambda x: 'FALSE' if x==False else x)\n",
    "df['Cough_symptoms']=df['Cough_symptoms'].apply(lambda x: 'TRUE' if x==True else x)\n",
    "df['Fever']=df['Fever'].apply(lambda x: 'FALSE' if x==False else x)\n",
    "df['Fever']=df['Fever'].apply(lambda x: 'TRUE' if x==True else x)\n",
    "df['Sore_throat']=df['Sore_throat'].apply(lambda x: 'FALSE' if x==False else x)\n",
    "df['Sore_throat']=df['Sore_throat'].apply(lambda x: 'TRUE' if x==True else x)\n",
    "df['Shortness_of_breath']=df['Shortness_of_breath'].apply(lambda x: 'FALSE' if x==False else x)\n",
    "df['Shortness_of_breath']=df['Shortness_of_breath'].apply(lambda x: 'TRUE' if x==True else x)\n",
    "df['Headache']=df['Headache'].apply(lambda x: 'FALSE' if x==False else x)\n",
    "df['Headache']=df['Headache'].apply(lambda x: 'TRUE' if x==True else x)"
   ]
  },
  {
   "cell_type": "code",
   "execution_count": 11,
   "id": "c33787c5",
   "metadata": {},
   "outputs": [],
   "source": [
    "#replacing the value to None to null \n",
    "df['Cough_symptoms'].replace('None', pd.NA, inplace=True)\n",
    "df['Fever'].replace('None', pd.NA, inplace=True)\n",
    "df['Sore_throat'].replace('None', pd.NA, inplace=True)\n",
    "df['Shortness_of_breath'].replace('None', pd.NA, inplace=True)\n",
    "df['Headache'].replace('None', pd.NA, inplace=True)\n",
    "df['Corona'].replace('other', pd.NA, inplace=True)\n",
    "df['Sex'].replace('None', pd.NA, inplace=True)"
   ]
  },
  {
   "cell_type": "code",
   "execution_count": 12,
   "id": "64ae999e",
   "metadata": {},
   "outputs": [
    {
     "data": {
      "text/plain": [
       "Ind_ID                     0\n",
       "Test_date                  0\n",
       "Cough_symptoms           252\n",
       "Fever                    252\n",
       "Sore_throat                1\n",
       "Shortness_of_breath        1\n",
       "Headache                   1\n",
       "Corona                  3892\n",
       "Age_60_above               0\n",
       "Sex                    19563\n",
       "Known_contact              0\n",
       "dtype: int64"
      ]
     },
     "execution_count": 12,
     "metadata": {},
     "output_type": "execute_result"
    }
   ],
   "source": [
    "df.isnull().sum()"
   ]
  },
  {
   "cell_type": "code",
   "execution_count": 29,
   "id": "582d271d",
   "metadata": {},
   "outputs": [
    {
     "data": {
      "text/plain": [
       "'FALSE'"
      ]
     },
     "execution_count": 29,
     "metadata": {},
     "output_type": "execute_result"
    }
   ],
   "source": [
    "#filling the null value with the mode of that column\n",
    "df['Cough_symptoms'].mode()[0]"
   ]
  },
  {
   "cell_type": "code",
   "execution_count": 22,
   "id": "15604b41",
   "metadata": {},
   "outputs": [
    {
     "data": {
      "text/plain": [
       "'FALSE'"
      ]
     },
     "execution_count": 22,
     "metadata": {},
     "output_type": "execute_result"
    }
   ],
   "source": [
    "df['Fever'].mode()[0]"
   ]
  },
  {
   "cell_type": "code",
   "execution_count": 23,
   "id": "6586747c",
   "metadata": {},
   "outputs": [
    {
     "data": {
      "text/plain": [
       "'FALSE'"
      ]
     },
     "execution_count": 23,
     "metadata": {},
     "output_type": "execute_result"
    }
   ],
   "source": [
    "df['Sore_throat'].mode()[0]"
   ]
  },
  {
   "cell_type": "code",
   "execution_count": 24,
   "id": "f76d560f",
   "metadata": {},
   "outputs": [
    {
     "data": {
      "text/plain": [
       "'FALSE'"
      ]
     },
     "execution_count": 24,
     "metadata": {},
     "output_type": "execute_result"
    }
   ],
   "source": [
    "df['Headache'].mode()[0]"
   ]
  },
  {
   "cell_type": "code",
   "execution_count": 25,
   "id": "7e666525",
   "metadata": {},
   "outputs": [
    {
     "data": {
      "text/plain": [
       "'FALSE'"
      ]
     },
     "execution_count": 25,
     "metadata": {},
     "output_type": "execute_result"
    }
   ],
   "source": [
    "df['Shortness_of_breath'].mode()[0]"
   ]
  },
  {
   "cell_type": "code",
   "execution_count": 26,
   "id": "506516f4",
   "metadata": {},
   "outputs": [
    {
     "data": {
      "text/plain": [
       "'negative'"
      ]
     },
     "execution_count": 26,
     "metadata": {},
     "output_type": "execute_result"
    }
   ],
   "source": [
    "df['Corona'].mode()[0]"
   ]
  },
  {
   "cell_type": "code",
   "execution_count": 28,
   "id": "16149748",
   "metadata": {},
   "outputs": [
    {
     "data": {
      "text/plain": [
       "'female'"
      ]
     },
     "execution_count": 28,
     "metadata": {},
     "output_type": "execute_result"
    }
   ],
   "source": [
    "df['Sex'].mode()[0]"
   ]
  },
  {
   "cell_type": "code",
   "execution_count": 35,
   "id": "d2b6ad0b",
   "metadata": {},
   "outputs": [],
   "source": [
    "df['Cough_symptoms'].fillna(\"FALSE\", inplace=True)\n",
    "df['Fever'].fillna(\"FALSE\", inplace=True)\n",
    "df['Sore_throat'].fillna(\"FALSE\", inplace=True)\n",
    "df['Shortness_of_breath'].fillna(\"FALSE\", inplace=True)\n",
    "df['Headache'].fillna(\"FALSE\", inplace=True)\n",
    "df['Corona'].fillna(\"negative\", inplace=True)\n",
    "df['Sex'].fillna(\"female\", inplace=True)"
   ]
  },
  {
   "cell_type": "code",
   "execution_count": 53,
   "id": "3b33aaa1",
   "metadata": {},
   "outputs": [],
   "source": [
    "df1=df.copy()"
   ]
  },
  {
   "cell_type": "code",
   "execution_count": 37,
   "id": "d07f9fc7",
   "metadata": {},
   "outputs": [
    {
     "data": {
      "text/plain": [
       "Ind_ID                 0\n",
       "Test_date              0\n",
       "Cough_symptoms         0\n",
       "Fever                  0\n",
       "Sore_throat            0\n",
       "Shortness_of_breath    0\n",
       "Headache               0\n",
       "Corona                 0\n",
       "Age_60_above           0\n",
       "Sex                    0\n",
       "Known_contact          0\n",
       "dtype: int64"
      ]
     },
     "execution_count": 37,
     "metadata": {},
     "output_type": "execute_result"
    }
   ],
   "source": [
    "df.isnull().sum()"
   ]
  },
  {
   "cell_type": "code",
   "execution_count": 38,
   "id": "1c43e216",
   "metadata": {},
   "outputs": [
    {
     "name": "stdout",
     "output_type": "stream",
     "text": [
      "Ind_ID : [     1      2      3 ... 278846 278847 278848]\n",
      "Test_date : ['11-03-2020' '12-03-2020' '13-03-2020' '14-03-2020' '15-03-2020'\n",
      " '16-03-2020' '17-03-2020' '18-03-2020' '19-03-2020' '20-03-2020'\n",
      " '21-03-2020' '22-03-2020' '23-03-2020' '24-03-2020' '25-03-2020'\n",
      " '26-03-2020' '27-03-2020' '28-03-2020' '29-03-2020' '30-03-2020'\n",
      " '31-03-2020' '01-04-2020' '02-04-2020' '03-04-2020' '04-04-2020'\n",
      " '05-04-2020' '06-04-2020' '07-04-2020' '08-04-2020' '09-04-2020'\n",
      " '10-04-2020' '11-04-2020' '12-04-2020' '13-04-2020' '14-04-2020'\n",
      " '15-04-2020' '16-04-2020' '17-04-2020' '18-04-2020' '19-04-2020'\n",
      " '20-04-2020' '21-04-2020' '22-04-2020' '23-04-2020' '24-04-2020'\n",
      " '25-04-2020' '26-04-2020' '27-04-2020' '28-04-2020' '29-04-2020'\n",
      " '30-04-2020']\n",
      "Cough_symptoms : ['TRUE' 'FALSE']\n",
      "Fever : ['FALSE' 'TRUE']\n",
      "Sore_throat : ['TRUE' 'FALSE']\n",
      "Shortness_of_breath : ['FALSE' 'TRUE']\n",
      "Headache : ['FALSE' 'TRUE']\n",
      "Corona : ['negative' 'positive']\n",
      "Age_60_above : ['None' 'No' 'Yes']\n",
      "Sex : ['female' 'male']\n",
      "Known_contact : ['Abroad' 'Contact with confirmed' 'Other']\n"
     ]
    }
   ],
   "source": [
    "for i in df:\n",
    "  print(i, \":\", df[i].unique())"
   ]
  },
  {
   "cell_type": "markdown",
   "id": "4b4e1686",
   "metadata": {},
   "source": [
    "## DATA VISUALIZATION"
   ]
  },
  {
   "cell_type": "markdown",
   "id": "280fe69f",
   "metadata": {},
   "source": [
    "###  Verifing that what symptoms(i.e features) are effecting Covid-19 mostly"
   ]
  },
  {
   "cell_type": "code",
   "execution_count": 42,
   "id": "b8bda54b",
   "metadata": {},
   "outputs": [
    {
     "data": {
      "image/png": "[encoded data removed]",
      "text/plain": [
       "<Figure size 640x480 with 1 Axes>"
      ]
     },
     "metadata": {},
     "output_type": "display_data"
    }
   ],
   "source": [
    "sns.countplot(df, hue = 'Sex', x = df['Corona'])\n",
    "sns.set(style='whitegrid')"
   ]
  },
  {
   "cell_type": "code",
   "execution_count": 43,
   "id": "1ec2aa27",
   "metadata": {},
   "outputs": [
    {
     "data": {
      "image/png": "[encoded data removed]",
      "text/plain": [
       "<Figure size 640x480 with 1 Axes>"
      ]
     },
     "metadata": {},
     "output_type": "display_data"
    }
   ],
   "source": [
    "sns.countplot(df, x = df['Corona'],hue='Fever')\n",
    "sns.set(style='whitegrid')"
   ]
  },
  {
   "cell_type": "code",
   "execution_count": 44,
   "id": "f92f5971",
   "metadata": {},
   "outputs": [
    {
     "data": {
      "image/png": "[encoded data removed]",
      "text/plain": [
       "<Figure size 640x480 with 1 Axes>"
      ]
     },
     "metadata": {},
     "output_type": "display_data"
    }
   ],
   "source": [
    "sns.countplot(df, x = df['Corona'],hue='Sore_throat')\n",
    "sns.set(style='whitegrid')"
   ]
  },
  {
   "cell_type": "code",
   "execution_count": 45,
   "id": "f9dc7579",
   "metadata": {},
   "outputs": [
    {
     "data": {
      "image/png": "[encoded data removed]",
      "text/plain": [
       "<Figure size 640x480 with 1 Axes>"
      ]
     },
     "metadata": {},
     "output_type": "display_data"
    }
   ],
   "source": [
    "sns.countplot(df, x = df['Corona'],hue='Headache')\n",
    "sns.set(style='whitegrid')"
   ]
  },
  {
   "cell_type": "code",
   "execution_count": 46,
   "id": "17896374",
   "metadata": {},
   "outputs": [
    {
     "data": {
      "image/png": "[encoded data removed]",
      "text/plain": [
       "<Figure size 640x480 with 1 Axes>"
      ]
     },
     "metadata": {},
     "output_type": "display_data"
    }
   ],
   "source": [
    "sns.countplot(df, x = df['Corona'],hue='Age_60_above')\n",
    "sns.set(style='whitegrid')"
   ]
  },
  {
   "cell_type": "code",
   "execution_count": 47,
   "id": "56165b2a",
   "metadata": {},
   "outputs": [
    {
     "data": {
      "image/png": "[encoded data removed]",
      "text/plain": [
       "<Figure size 640x480 with 1 Axes>"
      ]
     },
     "metadata": {},
     "output_type": "display_data"
    }
   ],
   "source": [
    "sns.countplot(df, x = df['Corona'],hue='Known_contact')\n",
    "sns.set(style='whitegrid')"
   ]
  },
  {
   "cell_type": "code",
   "execution_count": 48,
   "id": "13c0aee0",
   "metadata": {},
   "outputs": [
    {
     "data": {
      "image/png": "[encoded data removed]",
      "text/plain": [
       "<Figure size 640x480 with 1 Axes>"
      ]
     },
     "metadata": {},
     "output_type": "display_data"
    }
   ],
   "source": [
    "sns.countplot(df, x = df['Corona'],hue='Cough_symptoms')\n",
    "sns.set(style='whitegrid')"
   ]
  },
  {
   "cell_type": "markdown",
   "id": "a45a24d3",
   "metadata": {},
   "source": [
    "#### conclusion"
   ]
  },
  {
   "cell_type": "markdown",
   "id": "8871c04b",
   "metadata": {},
   "source": [
    "1. the number of people who got Covid test report as negitve is      higher than the number of people who got Covid test report as positve\n",
    "\n",
    "2. the sum of positively reported male people number is higher than female\n",
    "\n",
    "3. The number of negtively reported people who got fever is lesser than the number of negtively reported people who did not get fever. And the people who got fever or not are postively reported for Covid-19 is almost equal in number. So that, fever is not considerable symptom actually in case of covid.\n",
    "\n",
    "4. the number of positvely reported people who got sore_troat is very less as compared to the number of positvely reported people who did not get sore_troat and the number of negtively reported people who did not sore_troat. So that, sore_troat is also not considerable symptom for Covid-19.\n",
    "\n",
    "5. the reporting of symptom headache is similar to sore_troat,\n",
    "\n",
    "6. the reporting of Age_60_above is similar to sore_troat\n",
    "\n",
    "7. the one known_contact who got confirmed for positively reported people is heigher than other, so that feture known_contract with comformed persons is considerable\n",
    "\n",
    "8. the number of postively reported people who has symptom cough or not is alomost equal and other hand the number of negtively reported people who got cough is heigher than the number of positively reported people \n",
    "\n",
    "these symptoms are not acceptable to predict Covid-19 except the Cough symptom and Age_above_60 and contact are not very relavent to the prediction "
   ]
  },
  {
   "cell_type": "markdown",
   "id": "1b5568e8",
   "metadata": {},
   "source": [
    "### Applying label encoding \n"
   ]
  },
  {
   "cell_type": "code",
   "execution_count": 50,
   "id": "73f5f412",
   "metadata": {},
   "outputs": [],
   "source": [
    "from sklearn.preprocessing import LabelEncoder"
   ]
  },
  {
   "cell_type": "code",
   "execution_count": 59,
   "id": "dba2605c",
   "metadata": {},
   "outputs": [],
   "source": [
    "custom_mappings = {\n",
    "    'Cough_symptoms': {'TRUE': 1, 'FALSE': 0},\n",
    "    'Fever': {'TRUE': 1, 'FALSE': 0,},\n",
    "    'Sore_throat': {'TRUE': 1, 'FALSE': 0,},\n",
    "    'Shortness_of_breath': {'TRUE': 1, 'FALSE': 0,},\n",
    "    'Headache': {'TRUE': 1, 'FALSE': 0,},\n",
    "    'Corona': {'negative': 0, 'positive': 1,},\n",
    "    'Sex': {'male': 1, 'female': 2},\n",
    "    'Age_60_above': {'None': 2, 'No': 0, 'Yes': 1},\n",
    "    'Known_contact': {'Abroad': 1, 'Contact with confirmed': 2, 'Other': 3, 'None': 4}\n",
    "\n",
    "}"
   ]
  },
  {
   "cell_type": "code",
   "execution_count": 64,
   "id": "1a0d4b36",
   "metadata": {},
   "outputs": [
    {
     "data": {
      "text/html": [
       "<div>\n",
       "<style scoped>\n",
       "    .dataframe tbody tr th:only-of-type {\n",
       "        vertical-align: middle;\n",
       "    }\n",
       "\n",
       "    .dataframe tbody tr th {\n",
       "        vertical-align: top;\n",
       "    }\n",
       "\n",
       "    .dataframe thead th {\n",
       "        text-align: right;\n",
       "    }\n",
       "</style>\n",
       "<table border=\"1\" class=\"dataframe\">\n",
       "  <thead>\n",
       "    <tr style=\"text-align: right;\">\n",
       "      <th></th>\n",
       "      <th>Cough_symptoms</th>\n",
       "      <th>Fever</th>\n",
       "      <th>Sore_throat</th>\n",
       "      <th>Shortness_of_breath</th>\n",
       "      <th>Headache</th>\n",
       "      <th>Corona</th>\n",
       "      <th>Age_60_above</th>\n",
       "      <th>Sex</th>\n",
       "      <th>Known_contact</th>\n",
       "    </tr>\n",
       "  </thead>\n",
       "  <tbody>\n",
       "    <tr>\n",
       "      <th>0</th>\n",
       "      <td>1</td>\n",
       "      <td>0</td>\n",
       "      <td>1</td>\n",
       "      <td>0</td>\n",
       "      <td>0</td>\n",
       "      <td>0</td>\n",
       "      <td>-1</td>\n",
       "      <td>2</td>\n",
       "      <td>1</td>\n",
       "    </tr>\n",
       "    <tr>\n",
       "      <th>1</th>\n",
       "      <td>0</td>\n",
       "      <td>1</td>\n",
       "      <td>0</td>\n",
       "      <td>0</td>\n",
       "      <td>0</td>\n",
       "      <td>1</td>\n",
       "      <td>-1</td>\n",
       "      <td>2</td>\n",
       "      <td>1</td>\n",
       "    </tr>\n",
       "    <tr>\n",
       "      <th>2</th>\n",
       "      <td>0</td>\n",
       "      <td>1</td>\n",
       "      <td>0</td>\n",
       "      <td>0</td>\n",
       "      <td>0</td>\n",
       "      <td>1</td>\n",
       "      <td>-1</td>\n",
       "      <td>2</td>\n",
       "      <td>1</td>\n",
       "    </tr>\n",
       "    <tr>\n",
       "      <th>3</th>\n",
       "      <td>1</td>\n",
       "      <td>0</td>\n",
       "      <td>0</td>\n",
       "      <td>0</td>\n",
       "      <td>0</td>\n",
       "      <td>0</td>\n",
       "      <td>-1</td>\n",
       "      <td>2</td>\n",
       "      <td>1</td>\n",
       "    </tr>\n",
       "    <tr>\n",
       "      <th>4</th>\n",
       "      <td>1</td>\n",
       "      <td>0</td>\n",
       "      <td>0</td>\n",
       "      <td>0</td>\n",
       "      <td>0</td>\n",
       "      <td>0</td>\n",
       "      <td>-1</td>\n",
       "      <td>2</td>\n",
       "      <td>2</td>\n",
       "    </tr>\n",
       "    <tr>\n",
       "      <th>...</th>\n",
       "      <td>...</td>\n",
       "      <td>...</td>\n",
       "      <td>...</td>\n",
       "      <td>...</td>\n",
       "      <td>...</td>\n",
       "      <td>...</td>\n",
       "      <td>...</td>\n",
       "      <td>...</td>\n",
       "      <td>...</td>\n",
       "    </tr>\n",
       "    <tr>\n",
       "      <th>278843</th>\n",
       "      <td>0</td>\n",
       "      <td>0</td>\n",
       "      <td>0</td>\n",
       "      <td>0</td>\n",
       "      <td>0</td>\n",
       "      <td>1</td>\n",
       "      <td>-1</td>\n",
       "      <td>1</td>\n",
       "      <td>3</td>\n",
       "    </tr>\n",
       "    <tr>\n",
       "      <th>278844</th>\n",
       "      <td>0</td>\n",
       "      <td>0</td>\n",
       "      <td>0</td>\n",
       "      <td>0</td>\n",
       "      <td>0</td>\n",
       "      <td>0</td>\n",
       "      <td>-1</td>\n",
       "      <td>2</td>\n",
       "      <td>3</td>\n",
       "    </tr>\n",
       "    <tr>\n",
       "      <th>278845</th>\n",
       "      <td>0</td>\n",
       "      <td>0</td>\n",
       "      <td>0</td>\n",
       "      <td>0</td>\n",
       "      <td>0</td>\n",
       "      <td>0</td>\n",
       "      <td>-1</td>\n",
       "      <td>1</td>\n",
       "      <td>3</td>\n",
       "    </tr>\n",
       "    <tr>\n",
       "      <th>278846</th>\n",
       "      <td>0</td>\n",
       "      <td>0</td>\n",
       "      <td>0</td>\n",
       "      <td>0</td>\n",
       "      <td>0</td>\n",
       "      <td>0</td>\n",
       "      <td>-1</td>\n",
       "      <td>1</td>\n",
       "      <td>3</td>\n",
       "    </tr>\n",
       "    <tr>\n",
       "      <th>278847</th>\n",
       "      <td>0</td>\n",
       "      <td>0</td>\n",
       "      <td>0</td>\n",
       "      <td>0</td>\n",
       "      <td>0</td>\n",
       "      <td>0</td>\n",
       "      <td>-1</td>\n",
       "      <td>2</td>\n",
       "      <td>3</td>\n",
       "    </tr>\n",
       "  </tbody>\n",
       "</table>\n",
       "<p>278848 rows × 9 columns</p>\n",
       "</div>"
      ],
      "text/plain": [
       "        Cough_symptoms  Fever  Sore_throat  Shortness_of_breath  Headache  \\\n",
       "0                    1      0            1                    0         0   \n",
       "1                    0      1            0                    0         0   \n",
       "2                    0      1            0                    0         0   \n",
       "3                    1      0            0                    0         0   \n",
       "4                    1      0            0                    0         0   \n",
       "...                ...    ...          ...                  ...       ...   \n",
       "278843               0      0            0                    0         0   \n",
       "278844               0      0            0                    0         0   \n",
       "278845               0      0            0                    0         0   \n",
       "278846               0      0            0                    0         0   \n",
       "278847               0      0            0                    0         0   \n",
       "\n",
       "        Corona  Age_60_above  Sex  Known_contact  \n",
       "0            0            -1    2              1  \n",
       "1            1            -1    2              1  \n",
       "2            1            -1    2              1  \n",
       "3            0            -1    2              1  \n",
       "4            0            -1    2              2  \n",
       "...        ...           ...  ...            ...  \n",
       "278843       1            -1    1              3  \n",
       "278844       0            -1    2              3  \n",
       "278845       0            -1    1              3  \n",
       "278846       0            -1    1              3  \n",
       "278847       0            -1    2              3  \n",
       "\n",
       "[278848 rows x 9 columns]"
      ]
     },
     "execution_count": 64,
     "metadata": {},
     "output_type": "execute_result"
    }
   ],
   "source": [
    "df.replace(custom_mappings, inplace=True)\n",
    "df"
   ]
  },
  {
   "cell_type": "code",
   "execution_count": 54,
   "id": "5bdce11c",
   "metadata": {},
   "outputs": [],
   "source": [
    "#droping out the non relevent column\n",
    "df.drop(columns=['Ind_ID'], inplace=True)"
   ]
  },
  {
   "cell_type": "code",
   "execution_count": 55,
   "id": "3b24bbec",
   "metadata": {},
   "outputs": [],
   "source": [
    "df.drop(columns=['Test_date'], inplace=True)"
   ]
  },
  {
   "cell_type": "markdown",
   "id": "254ff1ba",
   "metadata": {},
   "source": [
    "## Feature Selection chi-square Test"
   ]
  },
  {
   "cell_type": "code",
   "execution_count": 69,
   "id": "d0945f32",
   "metadata": {},
   "outputs": [],
   "source": [
    "from sklearn.model_selection import train_test_split\n",
    "X_train,X_test,y_train,y_test=train_test_split(df[['Cough_symptoms','Fever','Sore_throat','Shortness_of_breath','Headache','Sex','Known_contact']],\n",
    "                                              df['Corona'],test_size=0.2,random_state=42)"
   ]
  },
  {
   "cell_type": "code",
   "execution_count": 70,
   "id": "7540e44a",
   "metadata": {},
   "outputs": [
    {
     "data": {
      "text/html": [
       "<div>\n",
       "<style scoped>\n",
       "    .dataframe tbody tr th:only-of-type {\n",
       "        vertical-align: middle;\n",
       "    }\n",
       "\n",
       "    .dataframe tbody tr th {\n",
       "        vertical-align: top;\n",
       "    }\n",
       "\n",
       "    .dataframe thead th {\n",
       "        text-align: right;\n",
       "    }\n",
       "</style>\n",
       "<table border=\"1\" class=\"dataframe\">\n",
       "  <thead>\n",
       "    <tr style=\"text-align: right;\">\n",
       "      <th></th>\n",
       "      <th>Cough_symptoms</th>\n",
       "      <th>Fever</th>\n",
       "      <th>Sore_throat</th>\n",
       "      <th>Shortness_of_breath</th>\n",
       "      <th>Headache</th>\n",
       "      <th>Sex</th>\n",
       "      <th>Known_contact</th>\n",
       "    </tr>\n",
       "  </thead>\n",
       "  <tbody>\n",
       "    <tr>\n",
       "      <th>267278</th>\n",
       "      <td>0</td>\n",
       "      <td>0</td>\n",
       "      <td>0</td>\n",
       "      <td>0</td>\n",
       "      <td>0</td>\n",
       "      <td>1</td>\n",
       "      <td>3</td>\n",
       "    </tr>\n",
       "    <tr>\n",
       "      <th>144659</th>\n",
       "      <td>0</td>\n",
       "      <td>0</td>\n",
       "      <td>0</td>\n",
       "      <td>0</td>\n",
       "      <td>0</td>\n",
       "      <td>2</td>\n",
       "      <td>3</td>\n",
       "    </tr>\n",
       "    <tr>\n",
       "      <th>109640</th>\n",
       "      <td>0</td>\n",
       "      <td>0</td>\n",
       "      <td>0</td>\n",
       "      <td>0</td>\n",
       "      <td>0</td>\n",
       "      <td>1</td>\n",
       "      <td>3</td>\n",
       "    </tr>\n",
       "    <tr>\n",
       "      <th>172733</th>\n",
       "      <td>1</td>\n",
       "      <td>0</td>\n",
       "      <td>0</td>\n",
       "      <td>0</td>\n",
       "      <td>0</td>\n",
       "      <td>2</td>\n",
       "      <td>3</td>\n",
       "    </tr>\n",
       "    <tr>\n",
       "      <th>54864</th>\n",
       "      <td>0</td>\n",
       "      <td>0</td>\n",
       "      <td>0</td>\n",
       "      <td>0</td>\n",
       "      <td>0</td>\n",
       "      <td>1</td>\n",
       "      <td>2</td>\n",
       "    </tr>\n",
       "  </tbody>\n",
       "</table>\n",
       "</div>"
      ],
      "text/plain": [
       "        Cough_symptoms  Fever  Sore_throat  Shortness_of_breath  Headache  \\\n",
       "267278               0      0            0                    0         0   \n",
       "144659               0      0            0                    0         0   \n",
       "109640               0      0            0                    0         0   \n",
       "172733               1      0            0                    0         0   \n",
       "54864                0      0            0                    0         0   \n",
       "\n",
       "        Sex  Known_contact  \n",
       "267278    1              3  \n",
       "144659    2              3  \n",
       "109640    1              3  \n",
       "172733    2              3  \n",
       "54864     1              2  "
      ]
     },
     "execution_count": 70,
     "metadata": {},
     "output_type": "execute_result"
    }
   ],
   "source": [
    "X_train.head()"
   ]
  },
  {
   "cell_type": "code",
   "execution_count": 71,
   "id": "394c8666",
   "metadata": {},
   "outputs": [],
   "source": [
    "## Perform chi2 test\n",
    "### chi2 returns 2 values\n",
    "### Fscore and the pvalue\n",
    "from sklearn.feature_selection import chi2\n",
    "f_p_values=chi2(X_train,y_train)"
   ]
  },
  {
   "cell_type": "code",
   "execution_count": 72,
   "id": "c509b79b",
   "metadata": {},
   "outputs": [
    {
     "data": {
      "text/plain": [
       "(array([7.14996333e+03, 1.41111438e+04, 1.69284494e+04, 1.19606257e+04,\n",
       "        2.97234514e+04, 1.88498724e+01, 1.28836565e+03]),\n",
       " array([0.00000000e+000, 0.00000000e+000, 0.00000000e+000, 0.00000000e+000,\n",
       "        0.00000000e+000, 1.41420558e-005, 3.81538285e-282]))"
      ]
     },
     "execution_count": 72,
     "metadata": {},
     "output_type": "execute_result"
    }
   ],
   "source": [
    "f_p_values"
   ]
  },
  {
   "cell_type": "code",
   "execution_count": 73,
   "id": "333b3dcb",
   "metadata": {},
   "outputs": [
    {
     "data": {
      "text/plain": [
       "Cough_symptoms          0.000000e+00\n",
       "Fever                   0.000000e+00\n",
       "Sore_throat             0.000000e+00\n",
       "Shortness_of_breath     0.000000e+00\n",
       "Headache                0.000000e+00\n",
       "Sex                     1.414206e-05\n",
       "Known_contact          3.815383e-282\n",
       "dtype: float64"
      ]
     },
     "execution_count": 73,
     "metadata": {},
     "output_type": "execute_result"
    }
   ],
   "source": [
    "import pandas as pd\n",
    "p_values=pd.Series(f_p_values[1])\n",
    "p_values.index=X_train.columns\n",
    "p_values"
   ]
  },
  {
   "cell_type": "code",
   "execution_count": 75,
   "id": "ef348fc0",
   "metadata": {},
   "outputs": [],
   "source": [
    "##  we can see that known contact , and age_above_60 are not that much related so we can drop them"
   ]
  },
  {
   "cell_type": "code",
   "execution_count": 78,
   "id": "b8c4c9ee",
   "metadata": {},
   "outputs": [],
   "source": [
    "df.drop(columns=['Age_60_above'], inplace=True)"
   ]
  },
  {
   "cell_type": "code",
   "execution_count": 80,
   "id": "467fcab2",
   "metadata": {},
   "outputs": [
    {
     "data": {
      "text/html": [
       "<div>\n",
       "<style scoped>\n",
       "    .dataframe tbody tr th:only-of-type {\n",
       "        vertical-align: middle;\n",
       "    }\n",
       "\n",
       "    .dataframe tbody tr th {\n",
       "        vertical-align: top;\n",
       "    }\n",
       "\n",
       "    .dataframe thead th {\n",
       "        text-align: right;\n",
       "    }\n",
       "</style>\n",
       "<table border=\"1\" class=\"dataframe\">\n",
       "  <thead>\n",
       "    <tr style=\"text-align: right;\">\n",
       "      <th></th>\n",
       "      <th>Cough_symptoms</th>\n",
       "      <th>Fever</th>\n",
       "      <th>Sore_throat</th>\n",
       "      <th>Shortness_of_breath</th>\n",
       "      <th>Headache</th>\n",
       "      <th>Corona</th>\n",
       "      <th>Sex</th>\n",
       "    </tr>\n",
       "  </thead>\n",
       "  <tbody>\n",
       "    <tr>\n",
       "      <th>0</th>\n",
       "      <td>1</td>\n",
       "      <td>0</td>\n",
       "      <td>1</td>\n",
       "      <td>0</td>\n",
       "      <td>0</td>\n",
       "      <td>0</td>\n",
       "      <td>2</td>\n",
       "    </tr>\n",
       "    <tr>\n",
       "      <th>1</th>\n",
       "      <td>0</td>\n",
       "      <td>1</td>\n",
       "      <td>0</td>\n",
       "      <td>0</td>\n",
       "      <td>0</td>\n",
       "      <td>1</td>\n",
       "      <td>2</td>\n",
       "    </tr>\n",
       "    <tr>\n",
       "      <th>2</th>\n",
       "      <td>0</td>\n",
       "      <td>1</td>\n",
       "      <td>0</td>\n",
       "      <td>0</td>\n",
       "      <td>0</td>\n",
       "      <td>1</td>\n",
       "      <td>2</td>\n",
       "    </tr>\n",
       "    <tr>\n",
       "      <th>3</th>\n",
       "      <td>1</td>\n",
       "      <td>0</td>\n",
       "      <td>0</td>\n",
       "      <td>0</td>\n",
       "      <td>0</td>\n",
       "      <td>0</td>\n",
       "      <td>2</td>\n",
       "    </tr>\n",
       "    <tr>\n",
       "      <th>4</th>\n",
       "      <td>1</td>\n",
       "      <td>0</td>\n",
       "      <td>0</td>\n",
       "      <td>0</td>\n",
       "      <td>0</td>\n",
       "      <td>0</td>\n",
       "      <td>2</td>\n",
       "    </tr>\n",
       "  </tbody>\n",
       "</table>\n",
       "</div>"
      ],
      "text/plain": [
       "   Cough_symptoms  Fever  Sore_throat  Shortness_of_breath  Headache  Corona  \\\n",
       "0               1      0            1                    0         0       0   \n",
       "1               0      1            0                    0         0       1   \n",
       "2               0      1            0                    0         0       1   \n",
       "3               1      0            0                    0         0       0   \n",
       "4               1      0            0                    0         0       0   \n",
       "\n",
       "   Sex  \n",
       "0    2  \n",
       "1    2  \n",
       "2    2  \n",
       "3    2  \n",
       "4    2  "
      ]
     },
     "execution_count": 80,
     "metadata": {},
     "output_type": "execute_result"
    }
   ],
   "source": [
    "df.head()"
   ]
  },
  {
   "cell_type": "code",
   "execution_count": null,
   "id": "38e144e6",
   "metadata": {},
   "outputs": [],
   "source": [
    "# Save the DataFrame to a CSV file\n",
    "df.to_csv('output_file.csv', index=False)"
   ]
  },
  {
   "cell_type": "markdown",
   "id": "5a03ff05",
   "metadata": {},
   "source": [
    "# Model training"
   ]
  },
  {
   "cell_type": "markdown",
   "id": "80014e27",
   "metadata": {},
   "source": [
    "### Hypothesis - Decision tree can predict more accurate than Random forest"
   ]
  },
  {
   "cell_type": "code",
   "execution_count": 81,
   "id": "dd2dbe27",
   "metadata": {},
   "outputs": [],
   "source": [
    "#load dataset in new csv file\n",
    "df2=pd.read_csv(r\"C:\\Users\\star\\Desktop\\project corona\\output_file.csv\")"
   ]
  },
  {
   "cell_type": "code",
   "execution_count": 84,
   "id": "9a924132",
   "metadata": {},
   "outputs": [
    {
     "data": {
      "text/html": [
       "<div>\n",
       "<style scoped>\n",
       "    .dataframe tbody tr th:only-of-type {\n",
       "        vertical-align: middle;\n",
       "    }\n",
       "\n",
       "    .dataframe tbody tr th {\n",
       "        vertical-align: top;\n",
       "    }\n",
       "\n",
       "    .dataframe thead th {\n",
       "        text-align: right;\n",
       "    }\n",
       "</style>\n",
       "<table border=\"1\" class=\"dataframe\">\n",
       "  <thead>\n",
       "    <tr style=\"text-align: right;\">\n",
       "      <th></th>\n",
       "      <th>Cough_symptoms</th>\n",
       "      <th>Fever</th>\n",
       "      <th>Sore_throat</th>\n",
       "      <th>Shortness_of_breath</th>\n",
       "      <th>Headache</th>\n",
       "      <th>Corona</th>\n",
       "      <th>Sex</th>\n",
       "    </tr>\n",
       "  </thead>\n",
       "  <tbody>\n",
       "    <tr>\n",
       "      <th>Cough_symptoms</th>\n",
       "      <td>1.000000</td>\n",
       "      <td>0.454386</td>\n",
       "      <td>0.115637</td>\n",
       "      <td>0.106749</td>\n",
       "      <td>0.116350</td>\n",
       "      <td>0.194711</td>\n",
       "      <td>-0.032870</td>\n",
       "    </tr>\n",
       "    <tr>\n",
       "      <th>Fever</th>\n",
       "      <td>0.454386</td>\n",
       "      <td>1.000000</td>\n",
       "      <td>0.122832</td>\n",
       "      <td>0.126070</td>\n",
       "      <td>0.168841</td>\n",
       "      <td>0.263649</td>\n",
       "      <td>-0.033126</td>\n",
       "    </tr>\n",
       "    <tr>\n",
       "      <th>Sore_throat</th>\n",
       "      <td>0.115637</td>\n",
       "      <td>0.122832</td>\n",
       "      <td>1.000000</td>\n",
       "      <td>0.197540</td>\n",
       "      <td>0.323132</td>\n",
       "      <td>0.275718</td>\n",
       "      <td>0.016923</td>\n",
       "    </tr>\n",
       "    <tr>\n",
       "      <th>Shortness_of_breath</th>\n",
       "      <td>0.106749</td>\n",
       "      <td>0.126070</td>\n",
       "      <td>0.197540</td>\n",
       "      <td>1.000000</td>\n",
       "      <td>0.202538</td>\n",
       "      <td>0.231057</td>\n",
       "      <td>0.014124</td>\n",
       "    </tr>\n",
       "    <tr>\n",
       "      <th>Headache</th>\n",
       "      <td>0.116350</td>\n",
       "      <td>0.168841</td>\n",
       "      <td>0.323132</td>\n",
       "      <td>0.202538</td>\n",
       "      <td>1.000000</td>\n",
       "      <td>0.364739</td>\n",
       "      <td>0.002551</td>\n",
       "    </tr>\n",
       "    <tr>\n",
       "      <th>Corona</th>\n",
       "      <td>0.194711</td>\n",
       "      <td>0.263649</td>\n",
       "      <td>0.275718</td>\n",
       "      <td>0.231057</td>\n",
       "      <td>0.364739</td>\n",
       "      <td>1.000000</td>\n",
       "      <td>-0.022456</td>\n",
       "    </tr>\n",
       "    <tr>\n",
       "      <th>Sex</th>\n",
       "      <td>-0.032870</td>\n",
       "      <td>-0.033126</td>\n",
       "      <td>0.016923</td>\n",
       "      <td>0.014124</td>\n",
       "      <td>0.002551</td>\n",
       "      <td>-0.022456</td>\n",
       "      <td>1.000000</td>\n",
       "    </tr>\n",
       "  </tbody>\n",
       "</table>\n",
       "</div>"
      ],
      "text/plain": [
       "                     Cough_symptoms     Fever  Sore_throat  \\\n",
       "Cough_symptoms             1.000000  0.454386     0.115637   \n",
       "Fever                      0.454386  1.000000     0.122832   \n",
       "Sore_throat                0.115637  0.122832     1.000000   \n",
       "Shortness_of_breath        0.106749  0.126070     0.197540   \n",
       "Headache                   0.116350  0.168841     0.323132   \n",
       "Corona                     0.194711  0.263649     0.275718   \n",
       "Sex                       -0.032870 -0.033126     0.016923   \n",
       "\n",
       "                     Shortness_of_breath  Headache    Corona       Sex  \n",
       "Cough_symptoms                  0.106749  0.116350  0.194711 -0.032870  \n",
       "Fever                           0.126070  0.168841  0.263649 -0.033126  \n",
       "Sore_throat                     0.197540  0.323132  0.275718  0.016923  \n",
       "Shortness_of_breath             1.000000  0.202538  0.231057  0.014124  \n",
       "Headache                        0.202538  1.000000  0.364739  0.002551  \n",
       "Corona                          0.231057  0.364739  1.000000 -0.022456  \n",
       "Sex                             0.014124  0.002551 -0.022456  1.000000  "
      ]
     },
     "execution_count": 84,
     "metadata": {},
     "output_type": "execute_result"
    }
   ],
   "source": [
    "df2.corr()"
   ]
  },
  {
   "cell_type": "code",
   "execution_count": 85,
   "id": "4068154f",
   "metadata": {},
   "outputs": [
    {
     "data": {
      "image/png": "[encoded data removed]",
      "text/plain": [
       "<Figure size 640x480 with 2 Axes>"
      ]
     },
     "metadata": {},
     "output_type": "display_data"
    }
   ],
   "source": [
    "sns.heatmap(df2.corr(),annot=True);"
   ]
  },
  {
   "cell_type": "code",
   "execution_count": 96,
   "id": "02cdcd79",
   "metadata": {},
   "outputs": [],
   "source": [
    "##Logistic Regression"
   ]
  },
  {
   "cell_type": "code",
   "execution_count": 88,
   "id": "da9d4f0d",
   "metadata": {},
   "outputs": [],
   "source": [
    "from sklearn.model_selection import train_test_split\n",
    "from sklearn.linear_model import LogisticRegression\n",
    "from sklearn.metrics import accuracy_score, classification_report, confusion_matrix\n"
   ]
  },
  {
   "cell_type": "code",
   "execution_count": 92,
   "id": "78b48928",
   "metadata": {},
   "outputs": [],
   "source": [
    "# Select relevant columns for predictor variables (X) and target variable (y)\n",
    "X = df2[['Cough_symptoms', 'Fever', 'Sore_throat', 'Shortness_of_breath', 'Headache', 'Sex',]]\n",
    "y = df2['Corona']"
   ]
  },
  {
   "cell_type": "code",
   "execution_count": 93,
   "id": "c7d1fc5f",
   "metadata": {},
   "outputs": [],
   "source": [
    "model = LogisticRegression()\n",
    "\n",
    "# Fit the model on the training data\n",
    "model.fit(X_train, y_train)\n",
    "\n",
    "# Make predictions on the test data\n",
    "y_pred = model.predict(X_test)"
   ]
  },
  {
   "cell_type": "code",
   "execution_count": 94,
   "id": "3cb26670",
   "metadata": {},
   "outputs": [
    {
     "name": "stdout",
     "output_type": "stream",
     "text": [
      "Accuracy: 0.9567868029406491\n",
      "Classification Report:\n",
      "               precision    recall  f1-score   support\n",
      "\n",
      "           0       0.96      1.00      0.98     52832\n",
      "           1       0.84      0.22      0.35      2938\n",
      "\n",
      "    accuracy                           0.96     55770\n",
      "   macro avg       0.90      0.61      0.67     55770\n",
      "weighted avg       0.95      0.96      0.94     55770\n",
      "\n",
      "Confusion Matrix:\n",
      " [[52704   128]\n",
      " [ 2282   656]]\n"
     ]
    }
   ],
   "source": [
    "accuracy = accuracy_score(y_test, y_pred)\n",
    "classification_report_output = classification_report(y_test, y_pred)\n",
    "confusion_matrix_output = confusion_matrix(y_test, y_pred)\n",
    "\n",
    "print(f'Accuracy: {accuracy}')\n",
    "print('Classification Report:\\n', classification_report_output)\n",
    "print('Confusion Matrix:\\n', confusion_matrix_output)"
   ]
  },
  {
   "cell_type": "code",
   "execution_count": 97,
   "id": "2ccbbf28",
   "metadata": {},
   "outputs": [],
   "source": [
    "## Dicision tree \n",
    "df3=df2.copy()"
   ]
  },
  {
   "cell_type": "code",
   "execution_count": 98,
   "id": "309de706",
   "metadata": {},
   "outputs": [],
   "source": [
    "from sklearn.tree import DecisionTreeClassifier # Importing Decision Tree Classifier\n",
    "from sklearn.model_selection import train_test_split # Importing train_test_split function\n",
    "from sklearn import metrics #Importing scikit-learn metrics module for accuracy calculation\n",
    "from sklearn import tree"
   ]
  },
  {
   "cell_type": "code",
   "execution_count": 99,
   "id": "f520328f",
   "metadata": {},
   "outputs": [],
   "source": [
    "df_copy = df.copy()"
   ]
  },
  {
   "cell_type": "code",
   "execution_count": 100,
   "id": "2f8d02bd",
   "metadata": {},
   "outputs": [
    {
     "name": "stdout",
     "output_type": "stream",
     "text": [
      "Features (X):\n",
      "   Cough_symptoms  Fever  Sore_throat  Shortness_of_breath  Headache  Sex\n",
      "0               1      0            1                    0         0    2\n",
      "1               0      1            0                    0         0    2\n",
      "2               0      1            0                    0         0    2\n",
      "3               1      0            0                    0         0    2\n",
      "4               1      0            0                    0         0    2\n",
      "\n",
      "Target variable (y):\n",
      "0    0\n",
      "1    1\n",
      "2    1\n",
      "3    0\n",
      "4    0\n",
      "Name: Corona, dtype: int64\n"
     ]
    }
   ],
   "source": [
    "X = df_copy.drop('Corona', axis=1)  # Features (all columns except 'Corona')\n",
    "y = df_copy['Corona']  # Target variable ('Corona')\n",
    "\n",
    "# Display the first few rows of features (X) and target variable (y)\n",
    "print(\"Features (X):\")\n",
    "print(X.head())\n",
    "\n",
    "print(\"\\nTarget variable (y):\")\n",
    "print(y.head())"
   ]
  },
  {
   "cell_type": "code",
   "execution_count": 101,
   "id": "67ad9d87",
   "metadata": {},
   "outputs": [],
   "source": [
    "# Split dataset into training set and test set\n",
    "X_train, X_test, y_train, y_test = train_test_split(X, y, test_size=0.20, random_state=42) # 75% training and 25% test"
   ]
  },
  {
   "cell_type": "code",
   "execution_count": 102,
   "id": "3f839bde",
   "metadata": {},
   "outputs": [],
   "source": [
    "# Create Decision Tree classifer object\n",
    "classification = DecisionTreeClassifier()\n",
    "\n",
    "# Train Decision Tree Classifer\n",
    "classification = classification.fit(X_train,y_train)\n",
    "\n",
    "#Predict the response for test dataset\n",
    "y_pred = classification.predict(X_test)"
   ]
  },
  {
   "cell_type": "code",
   "execution_count": 103,
   "id": "622f654c",
   "metadata": {},
   "outputs": [
    {
     "name": "stdout",
     "output_type": "stream",
     "text": [
      "Decision tree training set accuracy: 0.9580 \n",
      "Decision tree testing set accuracy: 0.9575 \n"
     ]
    }
   ],
   "source": [
    "print(f\"Decision tree training set accuracy: {format(classification.score(X_train, y_train), '.4f')} \")\n",
    "print(f\"Decision tree testing set accuracy: {format(classification.score(X_test, y_test), '.4f')} \")"
   ]
  },
  {
   "cell_type": "code",
   "execution_count": 104,
   "id": "9553fdcd",
   "metadata": {},
   "outputs": [
    {
     "name": "stdout",
     "output_type": "stream",
     "text": [
      "              precision    recall  f1-score   support\n",
      "\n",
      "           0       0.96      1.00      0.98     52832\n",
      "           1       0.84      0.24      0.37      2938\n",
      "\n",
      "    accuracy                           0.96     55770\n",
      "   macro avg       0.90      0.62      0.67     55770\n",
      "weighted avg       0.95      0.96      0.95     55770\n",
      "\n"
     ]
    }
   ],
   "source": [
    "# Model Accuracy, how often is the classifier correct?\n",
    "# print classification report apply confusion_matrix\n",
    "from sklearn.metrics import classification_report, confusion_matrix\n",
    "print(classification_report(y_test, y_pred))"
   ]
  },
  {
   "cell_type": "code",
   "execution_count": 105,
   "id": "981b4f49",
   "metadata": {},
   "outputs": [],
   "source": [
    "##after applying confusion_matrix the precision increases"
   ]
  },
  {
   "cell_type": "code",
   "execution_count": 106,
   "id": "ff052752",
   "metadata": {},
   "outputs": [
    {
     "name": "stdout",
     "output_type": "stream",
     "text": [
      "Features (X):\n",
      "   Cough_symptoms  Fever  Sore_throat  Shortness_of_breath  Headache  Sex\n",
      "0               1      0            1                    0         0    2\n",
      "1               0      1            0                    0         0    2\n",
      "2               0      1            0                    0         0    2\n",
      "3               1      0            0                    0         0    2\n",
      "4               1      0            0                    0         0    2\n",
      "\n",
      "Target variable (y):\n",
      "0    0\n",
      "1    1\n",
      "2    1\n",
      "3    0\n",
      "4    0\n",
      "Name: Corona, dtype: int64\n"
     ]
    }
   ],
   "source": [
    "## Random Forest\n",
    "print(\"Features (X):\")\n",
    "print(X.head())\n",
    "\n",
    "print(\"\\nTarget variable (y):\")\n",
    "print(y.head())"
   ]
  },
  {
   "cell_type": "code",
   "execution_count": 107,
   "id": "cba1488c",
   "metadata": {},
   "outputs": [],
   "source": [
    "#feature Scaling  \n",
    "from sklearn.preprocessing import StandardScaler    \n",
    "st_X= StandardScaler()    \n",
    "X_train= st_X.fit_transform(X_train)    \n",
    "X_test= st_X.transform(X_test)   "
   ]
  },
  {
   "cell_type": "code",
   "execution_count": 108,
   "id": "5f202fea",
   "metadata": {},
   "outputs": [
    {
     "data": {
      "text/html": [
       "<style>#sk-container-id-2 {color: black;}#sk-container-id-2 pre{padding: 0;}#sk-container-id-2 div.sk-toggleable {background-color: white;}#sk-container-id-2 label.sk-toggleable__label {cursor: pointer;display: block;width: 100%;margin-bottom: 0;padding: 0.3em;box-sizing: border-box;text-align: center;}#sk-container-id-2 label.sk-toggleable__label-arrow:before {content: \"▸\";float: left;margin-right: 0.25em;color: #696969;}#sk-container-id-2 label.sk-toggleable__label-arrow:hover:before {color: black;}#sk-container-id-2 div.sk-estimator:hover label.sk-toggleable__label-arrow:before {color: black;}#sk-container-id-2 div.sk-toggleable__content {max-height: 0;max-width: 0;overflow: hidden;text-align: left;background-color: #f0f8ff;}#sk-container-id-2 div.sk-toggleable__content pre {margin: 0.2em;color: black;border-radius: 0.25em;background-color: #f0f8ff;}#sk-container-id-2 input.sk-toggleable__control:checked~div.sk-toggleable__content {max-height: 200px;max-width: 100%;overflow: auto;}#sk-container-id-2 input.sk-toggleable__control:checked~label.sk-toggleable__label-arrow:before {content: \"▾\";}#sk-container-id-2 div.sk-estimator input.sk-toggleable__control:checked~label.sk-toggleable__label {background-color: #d4ebff;}#sk-container-id-2 div.sk-label input.sk-toggleable__control:checked~label.sk-toggleable__label {background-color: #d4ebff;}#sk-container-id-2 input.sk-hidden--visually {border: 0;clip: rect(1px 1px 1px 1px);clip: rect(1px, 1px, 1px, 1px);height: 1px;margin: -1px;overflow: hidden;padding: 0;position: absolute;width: 1px;}#sk-container-id-2 div.sk-estimator {font-family: monospace;background-color: #f0f8ff;border: 1px dotted black;border-radius: 0.25em;box-sizing: border-box;margin-bottom: 0.5em;}#sk-container-id-2 div.sk-estimator:hover {background-color: #d4ebff;}#sk-container-id-2 div.sk-parallel-item::after {content: \"\";width: 100%;border-bottom: 1px solid gray;flex-grow: 1;}#sk-container-id-2 div.sk-label:hover label.sk-toggleable__label {background-color: #d4ebff;}#sk-container-id-2 div.sk-serial::before {content: \"\";position: absolute;border-left: 1px solid gray;box-sizing: border-box;top: 0;bottom: 0;left: 50%;z-index: 0;}#sk-container-id-2 div.sk-serial {display: flex;flex-direction: column;align-items: center;background-color: white;padding-right: 0.2em;padding-left: 0.2em;position: relative;}#sk-container-id-2 div.sk-item {position: relative;z-index: 1;}#sk-container-id-2 div.sk-parallel {display: flex;align-items: stretch;justify-content: center;background-color: white;position: relative;}#sk-container-id-2 div.sk-item::before, #sk-container-id-2 div.sk-parallel-item::before {content: \"\";position: absolute;border-left: 1px solid gray;box-sizing: border-box;top: 0;bottom: 0;left: 50%;z-index: -1;}#sk-container-id-2 div.sk-parallel-item {display: flex;flex-direction: column;z-index: 1;position: relative;background-color: white;}#sk-container-id-2 div.sk-parallel-item:first-child::after {align-self: flex-end;width: 50%;}#sk-container-id-2 div.sk-parallel-item:last-child::after {align-self: flex-start;width: 50%;}#sk-container-id-2 div.sk-parallel-item:only-child::after {width: 0;}#sk-container-id-2 div.sk-dashed-wrapped {border: 1px dashed gray;margin: 0 0.4em 0.5em 0.4em;box-sizing: border-box;padding-bottom: 0.4em;background-color: white;}#sk-container-id-2 div.sk-label label {font-family: monospace;font-weight: bold;display: inline-block;line-height: 1.2em;}#sk-container-id-2 div.sk-label-container {text-align: center;}#sk-container-id-2 div.sk-container {/* jupyter's `normalize.less` sets `[hidden] { display: none; }` but bootstrap.min.css set `[hidden] { display: none !important; }` so we also need the `!important` here to be able to override the default hidden behavior on the sphinx rendered scikit-learn.org. See: https://github.com/scikit-learn/scikit-learn/issues/21755 */display: inline-block !important;position: relative;}#sk-container-id-2 div.sk-text-repr-fallback {display: none;}</style><div id=\"sk-container-id-2\" class=\"sk-top-container\"><div class=\"sk-text-repr-fallback\"><pre>RandomForestClassifier(criterion=&#x27;entropy&#x27;, n_estimators=10)</pre><b>In a Jupyter environment, please rerun this cell to show the HTML representation or trust the notebook. <br />On GitHub, the HTML representation is unable to render, please try loading this page with nbviewer.org.</b></div><div class=\"sk-container\" hidden><div class=\"sk-item\"><div class=\"sk-estimator sk-toggleable\"><input class=\"sk-toggleable__control sk-hidden--visually\" id=\"sk-estimator-id-2\" type=\"checkbox\" checked><label for=\"sk-estimator-id-2\" class=\"sk-toggleable__label sk-toggleable__label-arrow\">RandomForestClassifier</label><div class=\"sk-toggleable__content\"><pre>RandomForestClassifier(criterion=&#x27;entropy&#x27;, n_estimators=10)</pre></div></div></div></div></div>"
      ],
      "text/plain": [
       "RandomForestClassifier(criterion='entropy', n_estimators=10)"
      ]
     },
     "execution_count": 108,
     "metadata": {},
     "output_type": "execute_result"
    }
   ],
   "source": [
    "#Fitting Decision Tree classifier to the training set  \n",
    "from sklearn.ensemble import RandomForestClassifier  \n",
    "classifier= RandomForestClassifier(n_estimators= 10, criterion=\"entropy\")  \n",
    "classifier.fit(X_train, y_train) \n",
    "#In the above code, the classifier object takes below parameters:\n",
    "\n",
    "#n_estimators= The required number of trees in the Random Forest. The default value is 10. We can choose any number but need to take care of the overfitting issue.\n",
    "\n",
    "#criterion= It is a function to analyze the accuracy of the split. Here we have taken \"entropy\" for the information gain."
   ]
  },
  {
   "cell_type": "code",
   "execution_count": 109,
   "id": "de3948a7",
   "metadata": {},
   "outputs": [],
   "source": [
    "#Predicting the test set result  \n",
    "y_pred= classifier.predict(X_test)  "
   ]
  },
  {
   "cell_type": "code",
   "execution_count": 110,
   "id": "7042f1fa",
   "metadata": {},
   "outputs": [
    {
     "name": "stdout",
     "output_type": "stream",
     "text": [
      "[0 0 0 ... 0 0 0]\n"
     ]
    }
   ],
   "source": [
    "# Output\n",
    "print(y_pred)"
   ]
  },
  {
   "cell_type": "code",
   "execution_count": 111,
   "id": "25f7d087",
   "metadata": {},
   "outputs": [],
   "source": [
    "#Creating the Confusion matrix  \n",
    "from sklearn.metrics import confusion_matrix  \n",
    "cm= confusion_matrix(y_test, y_pred)  "
   ]
  },
  {
   "cell_type": "code",
   "execution_count": 112,
   "id": "3accd508",
   "metadata": {},
   "outputs": [
    {
     "data": {
      "text/plain": [
       "array([[52703,   129],\n",
       "       [ 2239,   699]], dtype=int64)"
      ]
     },
     "execution_count": 112,
     "metadata": {},
     "output_type": "execute_result"
    }
   ],
   "source": [
    "cm\n"
   ]
  },
  {
   "cell_type": "code",
   "execution_count": 114,
   "id": "95e1cdce",
   "metadata": {},
   "outputs": [],
   "source": [
    "from sklearn.metrics import accuracy_score, precision_score, recall_score\n"
   ]
  },
  {
   "cell_type": "code",
   "execution_count": 115,
   "id": "7df325bf",
   "metadata": {},
   "outputs": [
    {
     "name": "stdout",
     "output_type": "stream",
     "text": [
      "Accuracy: 0.9575\n",
      "Precision: 0.8442\n",
      "Recall: 0.2379\n"
     ]
    }
   ],
   "source": [
    "model = RandomForestClassifier()\n",
    "\n",
    "# Train the model\n",
    "model.fit(X_train, y_train)\n",
    "\n",
    "# Make predictions on the test set\n",
    "y_pred = model.predict(X_test)\n",
    "\n",
    "# Calculate metrics\n",
    "accuracy = accuracy_score(y_test, y_pred)\n",
    "precision = precision_score(y_test, y_pred)  # Specify the positive label\n",
    "recall = recall_score(y_test, y_pred)\n",
    "\n",
    "# Display the results\n",
    "print(f\"Accuracy: {accuracy:.4f}\")\n",
    "print(f\"Precision: {precision:.4f}\")\n",
    "print(f\"Recall: {recall:.4f}\")"
   ]
  },
  {
   "cell_type": "code",
   "execution_count": 116,
   "id": "ddf54e55",
   "metadata": {},
   "outputs": [
    {
     "name": "stdout",
     "output_type": "stream",
     "text": [
      "Features (X):\n",
      "   Cough_symptoms  Fever  Sore_throat  Shortness_of_breath  Headache  Sex\n",
      "0               1      0            1                    0         0    2\n",
      "1               0      1            0                    0         0    2\n",
      "2               0      1            0                    0         0    2\n",
      "3               1      0            0                    0         0    2\n",
      "4               1      0            0                    0         0    2\n",
      "\n",
      "Target variable (y):\n",
      "0    0\n",
      "1    1\n",
      "2    1\n",
      "3    0\n",
      "4    0\n",
      "Name: Corona, dtype: int64\n"
     ]
    }
   ],
   "source": [
    "## KNN_Validation\n",
    "print(\"Features (X):\")\n",
    "print(X.head())\n",
    "\n",
    "print(\"\\nTarget variable (y):\")\n",
    "print(y.head())"
   ]
  },
  {
   "cell_type": "code",
   "execution_count": 117,
   "id": "fdd31620",
   "metadata": {},
   "outputs": [
    {
     "data": {
      "text/plain": [
       "array([[-0.42238042, -0.2904043 , -0.08383722, -0.07527769, -0.09388216,\n",
       "         0.92773324],\n",
       "       [-0.42238042, -0.2904043 , -0.08383722, -0.07527769, -0.09388216,\n",
       "         0.92773324],\n",
       "       [-0.42238042, -0.2904043 , -0.08383722, -0.07527769, -0.09388216,\n",
       "        -1.07789606],\n",
       "       ...,\n",
       "       [-0.42238042, -0.2904043 , -0.08383722, -0.07527769, -0.09388216,\n",
       "         0.92773324],\n",
       "       [-0.42238042, -0.2904043 , -0.08383722, -0.07527769, -0.09388216,\n",
       "         0.92773324],\n",
       "       [-0.42238042, -0.2904043 , -0.08383722, -0.07527769, -0.09388216,\n",
       "         0.92773324]])"
      ]
     },
     "execution_count": 117,
     "metadata": {},
     "output_type": "execute_result"
    }
   ],
   "source": [
    "#feature scaling\n",
    "from sklearn.preprocessing import StandardScaler    \n",
    "scaler=StandardScaler()\n",
    "scaler\n",
    "\n",
    "### using fit_transform to Standardize the train data\n",
    "X_train=scaler.fit_transform(X_train)\n",
    "X_train\n",
    "\n",
    "X_test=scaler.transform(X_test)\n",
    "X_test"
   ]
  },
  {
   "cell_type": "code",
   "execution_count": 118,
   "id": "1f1397f1",
   "metadata": {},
   "outputs": [
    {
     "data": {
      "text/html": [
       "<style>#sk-container-id-3 {color: black;}#sk-container-id-3 pre{padding: 0;}#sk-container-id-3 div.sk-toggleable {background-color: white;}#sk-container-id-3 label.sk-toggleable__label {cursor: pointer;display: block;width: 100%;margin-bottom: 0;padding: 0.3em;box-sizing: border-box;text-align: center;}#sk-container-id-3 label.sk-toggleable__label-arrow:before {content: \"▸\";float: left;margin-right: 0.25em;color: #696969;}#sk-container-id-3 label.sk-toggleable__label-arrow:hover:before {color: black;}#sk-container-id-3 div.sk-estimator:hover label.sk-toggleable__label-arrow:before {color: black;}#sk-container-id-3 div.sk-toggleable__content {max-height: 0;max-width: 0;overflow: hidden;text-align: left;background-color: #f0f8ff;}#sk-container-id-3 div.sk-toggleable__content pre {margin: 0.2em;color: black;border-radius: 0.25em;background-color: #f0f8ff;}#sk-container-id-3 input.sk-toggleable__control:checked~div.sk-toggleable__content {max-height: 200px;max-width: 100%;overflow: auto;}#sk-container-id-3 input.sk-toggleable__control:checked~label.sk-toggleable__label-arrow:before {content: \"▾\";}#sk-container-id-3 div.sk-estimator input.sk-toggleable__control:checked~label.sk-toggleable__label {background-color: #d4ebff;}#sk-container-id-3 div.sk-label input.sk-toggleable__control:checked~label.sk-toggleable__label {background-color: #d4ebff;}#sk-container-id-3 input.sk-hidden--visually {border: 0;clip: rect(1px 1px 1px 1px);clip: rect(1px, 1px, 1px, 1px);height: 1px;margin: -1px;overflow: hidden;padding: 0;position: absolute;width: 1px;}#sk-container-id-3 div.sk-estimator {font-family: monospace;background-color: #f0f8ff;border: 1px dotted black;border-radius: 0.25em;box-sizing: border-box;margin-bottom: 0.5em;}#sk-container-id-3 div.sk-estimator:hover {background-color: #d4ebff;}#sk-container-id-3 div.sk-parallel-item::after {content: \"\";width: 100%;border-bottom: 1px solid gray;flex-grow: 1;}#sk-container-id-3 div.sk-label:hover label.sk-toggleable__label {background-color: #d4ebff;}#sk-container-id-3 div.sk-serial::before {content: \"\";position: absolute;border-left: 1px solid gray;box-sizing: border-box;top: 0;bottom: 0;left: 50%;z-index: 0;}#sk-container-id-3 div.sk-serial {display: flex;flex-direction: column;align-items: center;background-color: white;padding-right: 0.2em;padding-left: 0.2em;position: relative;}#sk-container-id-3 div.sk-item {position: relative;z-index: 1;}#sk-container-id-3 div.sk-parallel {display: flex;align-items: stretch;justify-content: center;background-color: white;position: relative;}#sk-container-id-3 div.sk-item::before, #sk-container-id-3 div.sk-parallel-item::before {content: \"\";position: absolute;border-left: 1px solid gray;box-sizing: border-box;top: 0;bottom: 0;left: 50%;z-index: -1;}#sk-container-id-3 div.sk-parallel-item {display: flex;flex-direction: column;z-index: 1;position: relative;background-color: white;}#sk-container-id-3 div.sk-parallel-item:first-child::after {align-self: flex-end;width: 50%;}#sk-container-id-3 div.sk-parallel-item:last-child::after {align-self: flex-start;width: 50%;}#sk-container-id-3 div.sk-parallel-item:only-child::after {width: 0;}#sk-container-id-3 div.sk-dashed-wrapped {border: 1px dashed gray;margin: 0 0.4em 0.5em 0.4em;box-sizing: border-box;padding-bottom: 0.4em;background-color: white;}#sk-container-id-3 div.sk-label label {font-family: monospace;font-weight: bold;display: inline-block;line-height: 1.2em;}#sk-container-id-3 div.sk-label-container {text-align: center;}#sk-container-id-3 div.sk-container {/* jupyter's `normalize.less` sets `[hidden] { display: none; }` but bootstrap.min.css set `[hidden] { display: none !important; }` so we also need the `!important` here to be able to override the default hidden behavior on the sphinx rendered scikit-learn.org. See: https://github.com/scikit-learn/scikit-learn/issues/21755 */display: inline-block !important;position: relative;}#sk-container-id-3 div.sk-text-repr-fallback {display: none;}</style><div id=\"sk-container-id-3\" class=\"sk-top-container\"><div class=\"sk-text-repr-fallback\"><pre>KNeighborsClassifier()</pre><b>In a Jupyter environment, please rerun this cell to show the HTML representation or trust the notebook. <br />On GitHub, the HTML representation is unable to render, please try loading this page with nbviewer.org.</b></div><div class=\"sk-container\" hidden><div class=\"sk-item\"><div class=\"sk-estimator sk-toggleable\"><input class=\"sk-toggleable__control sk-hidden--visually\" id=\"sk-estimator-id-3\" type=\"checkbox\" checked><label for=\"sk-estimator-id-3\" class=\"sk-toggleable__label sk-toggleable__label-arrow\">KNeighborsClassifier</label><div class=\"sk-toggleable__content\"><pre>KNeighborsClassifier()</pre></div></div></div></div></div>"
      ],
      "text/plain": [
       "KNeighborsClassifier()"
      ]
     },
     "execution_count": 118,
     "metadata": {},
     "output_type": "execute_result"
    }
   ],
   "source": [
    "#Now we will fit the K-NN classifier to the training data. To do this we will import the KNeighborsClassifier class of Sklearn Neighbors library. After importing the class, we will create the Classifier object of the class.\n",
    "from sklearn.neighbors import KNeighborsClassifier  \n",
    "classifier= KNeighborsClassifier(n_neighbors=5, metric='minkowski', p=2)  \n",
    "classifier.fit(X_train, y_train) "
   ]
  },
  {
   "cell_type": "code",
   "execution_count": 119,
   "id": "97b3617d",
   "metadata": {},
   "outputs": [],
   "source": [
    "#Predicting the test set result  \n",
    "y_pred= classifier.predict(X_test)"
   ]
  },
  {
   "cell_type": "code",
   "execution_count": 120,
   "id": "f9a2cac5",
   "metadata": {},
   "outputs": [
    {
     "data": {
      "text/plain": [
       "array([0, 0, 0, ..., 0, 0, 0], dtype=int64)"
      ]
     },
     "execution_count": 120,
     "metadata": {},
     "output_type": "execute_result"
    }
   ],
   "source": [
    "y_pred"
   ]
  },
  {
   "cell_type": "code",
   "execution_count": 121,
   "id": "aed09d55",
   "metadata": {},
   "outputs": [],
   "source": [
    "#Creating the Confusion matrix  , accuracy score and classification report.\n",
    "from sklearn.metrics import confusion_matrix,classification_report,accuracy_score"
   ]
  },
  {
   "cell_type": "code",
   "execution_count": 122,
   "id": "46ce1c74",
   "metadata": {},
   "outputs": [
    {
     "name": "stdout",
     "output_type": "stream",
     "text": [
      "[[52727   105]\n",
      " [ 2280   658]]\n",
      "0.957235072619688\n"
     ]
    }
   ],
   "source": [
    "cm= confusion_matrix(y_test, y_pred) \n",
    "print(cm)\n",
    "score=accuracy_score(y_test, y_pred)\n",
    "print(score)"
   ]
  },
  {
   "cell_type": "markdown",
   "id": "e1815997",
   "metadata": {},
   "source": [
    "# Cross validation"
   ]
  },
  {
   "cell_type": "markdown",
   "id": "0cd9d81a",
   "metadata": {},
   "source": [
    "Cross-validation is a technique used in machine learning to evaluate the performance of a predictive model on a given dataset. The basic idea behind cross-validation is to split the data into two sets: a training set, used to train the model, and a validation set, used to evaluate the performance of the model.\n",
    "\n",
    "The most common type of cross-validation is k-fold cross-validation. In k-fold cross-validation, the data is divided into k equal-sized \"folds.\" The model is then trained on k-1 folds, and the remaining fold is used for validation. This process is repeated k times, with each fold used once for validation. The results of each fold are then averaged to give an overall estimate of the model's performance."
   ]
  },
  {
   "cell_type": "code",
   "execution_count": 123,
   "id": "53c0252a",
   "metadata": {},
   "outputs": [],
   "source": [
    "from sklearn.model_selection import KFold\n",
    "from sklearn.metrics import accuracy_score"
   ]
  },
  {
   "cell_type": "code",
   "execution_count": 124,
   "id": "ccb58035",
   "metadata": {},
   "outputs": [],
   "source": [
    "#Implementing cross validation \n",
    "k = 5\n",
    "kf = KFold(n_splits=k, random_state=None)\n",
    "model = KNeighborsClassifier()\n",
    "acc_score = []\n"
   ]
  },
  {
   "cell_type": "code",
   "execution_count": 125,
   "id": "c9d1b270",
   "metadata": {},
   "outputs": [
    {
     "name": "stdout",
     "output_type": "stream",
     "text": [
      "accuracy of each fold - [0.9355746817285279, 0.9327954097184866, 0.9493813878429262, 0.9738026502178629, 0.9649626136384013]\n",
      "Avg accuracy : 0.9513033486292409\n"
     ]
    }
   ],
   "source": [
    "for train_index , test_index in kf.split(X):\n",
    "    X_train , X_test = X.iloc[train_index,:],X.iloc[test_index,:]\n",
    "    y_train , y_test = y[train_index] , y[test_index]\n",
    "     \n",
    "    model.fit(X_train,y_train)\n",
    "    pred_values = model.predict(X_test)\n",
    "     \n",
    "    acc = accuracy_score(pred_values , y_test)\n",
    "    acc_score.append(acc)\n",
    "     \n",
    "avg_acc_score = sum(acc_score)/k\n",
    " \n",
    "print('accuracy of each fold - {}'.format(acc_score))\n",
    "print('Avg accuracy : {}'.format(avg_acc_score))"
   ]
  },
  {
   "cell_type": "markdown",
   "id": "0ce7665b",
   "metadata": {},
   "source": [
    "## cross validation"
   ]
  },
  {
   "cell_type": "code",
   "execution_count": 127,
   "id": "d61a8a65",
   "metadata": {},
   "outputs": [],
   "source": [
    "from xgboost import XGBClassifier, plot_tree\n",
    "import xgboost as xgb\n",
    "from sklearn.metrics import mean_squared_error\n",
    "plt.style.use('ggplot')\n"
   ]
  },
  {
   "cell_type": "code",
   "execution_count": 128,
   "id": "60c287ae",
   "metadata": {},
   "outputs": [],
   "source": [
    "# Initialize XGBoost classifier\n",
    "model = XGBClassifier()\n"
   ]
  },
  {
   "cell_type": "code",
   "execution_count": 15,
   "id": "62119d25",
   "metadata": {},
   "outputs": [
    {
     "ename": "NameError",
     "evalue": "name 'model' is not defined",
     "output_type": "error",
     "traceback": [
      "\u001b[1;31m---------------------------------------------------------------------------\u001b[0m",
      "\u001b[1;31mNameError\u001b[0m                                 Traceback (most recent call last)",
      "Cell \u001b[1;32mIn[15], line 2\u001b[0m\n\u001b[0;32m      1\u001b[0m \u001b[38;5;66;03m# Train the model\u001b[39;00m\n\u001b[1;32m----> 2\u001b[0m model\u001b[38;5;241m.\u001b[39mfit(X_train, y_train)\n",
      "\u001b[1;31mNameError\u001b[0m: name 'model' is not defined"
     ]
    }
   ],
   "source": [
    "# Train the model\n",
    "model.fit(X_train, y_train)"
   ]
  },
  {
   "cell_type": "code",
   "execution_count": 130,
   "id": "f0c1ec29",
   "metadata": {},
   "outputs": [],
   "source": [
    "# Make predictions on the test set\n",
    "y_pred = model.predict(X_test)"
   ]
  },
  {
   "cell_type": "code",
   "execution_count": 131,
   "id": "38677103",
   "metadata": {},
   "outputs": [
    {
     "name": "stdout",
     "output_type": "stream",
     "text": [
      "Accuracy: 0.9796\n",
      "Precision: 0.1538\n",
      "Recall: 0.0018\n"
     ]
    }
   ],
   "source": [
    "# Calculate metrics\n",
    "accuracy = accuracy_score(y_test, y_pred)\n",
    "precision = precision_score(y_test, y_pred)  # Specify the positive label\n",
    "recall = recall_score(y_test, y_pred)\n",
    "\n",
    "# Display the results\n",
    "print(f\"Accuracy: {accuracy:.4f}\")\n",
    "print(f\"Precision: {precision:.4f}\")\n",
    "print(f\"Recall: {recall:.4f}\")"
   ]
  },
  {
   "cell_type": "code",
   "execution_count": 10,
   "id": "312eddd6",
   "metadata": {},
   "outputs": [
    {
     "name": "stdout",
     "output_type": "stream",
     "text": [
      "Requirement already satisfied: gradio in c:\\users\\star\\anaconda3\\lib\\site-packages (4.4.1)Note: you may need to restart the kernel to use updated packages.\n",
      "\n",
      "Requirement already satisfied: aiofiles<24.0,>=22.0 in c:\\users\\star\\anaconda3\\lib\\site-packages (from gradio) (22.1.0)\n",
      "Requirement already satisfied: altair<6.0,>=4.2.0 in c:\\users\\star\\anaconda3\\lib\\site-packages (from gradio) (5.1.2)\n",
      "Requirement already satisfied: fastapi in c:\\users\\star\\anaconda3\\lib\\site-packages (from gradio) (0.104.1)\n",
      "Requirement already satisfied: ffmpy in c:\\users\\star\\anaconda3\\lib\\site-packages (from gradio) (0.3.1)\n",
      "Requirement already satisfied: gradio-client==0.7.0 in c:\\users\\star\\anaconda3\\lib\\site-packages (from gradio) (0.7.0)\n",
      "Requirement already satisfied: httpx in c:\\users\\star\\anaconda3\\lib\\site-packages (from gradio) (0.25.1)\n",
      "Requirement already satisfied: huggingface-hub>=0.14.0 in c:\\users\\star\\anaconda3\\lib\\site-packages (from gradio) (0.19.4)\n",
      "Requirement already satisfied: importlib-resources<7.0,>=1.3 in c:\\users\\star\\anaconda3\\lib\\site-packages (from gradio) (6.1.1)\n",
      "Requirement already satisfied: jinja2<4.0 in c:\\users\\star\\anaconda3\\lib\\site-packages (from gradio) (3.1.2)\n",
      "Requirement already satisfied: markupsafe~=2.0 in c:\\users\\star\\anaconda3\\lib\\site-packages (from gradio) (2.1.1)\n",
      "Requirement already satisfied: matplotlib~=3.0 in c:\\users\\star\\anaconda3\\lib\\site-packages (from gradio) (3.7.1)\n",
      "Requirement already satisfied: numpy~=1.0 in c:\\users\\star\\anaconda3\\lib\\site-packages (from gradio) (1.24.3)\n",
      "Requirement already satisfied: orjson~=3.0 in c:\\users\\star\\anaconda3\\lib\\site-packages (from gradio) (3.9.10)\n",
      "Requirement already satisfied: packaging in c:\\users\\star\\anaconda3\\lib\\site-packages (from gradio) (23.0)\n",
      "Requirement already satisfied: pandas<3.0,>=1.0 in c:\\users\\star\\anaconda3\\lib\\site-packages (from gradio) (1.5.3)\n",
      "Requirement already satisfied: pillow<11.0,>=8.0 in c:\\users\\star\\anaconda3\\lib\\site-packages (from gradio) (9.4.0)\n",
      "Requirement already satisfied: pydantic>=2.0 in c:\\users\\star\\anaconda3\\lib\\site-packages (from gradio) (2.5.1)\n",
      "Requirement already satisfied: pydub in c:\\users\\star\\anaconda3\\lib\\site-packages (from gradio) (0.25.1)\n",
      "Requirement already satisfied: python-multipart in c:\\users\\star\\anaconda3\\lib\\site-packages (from gradio) (0.0.6)\n",
      "Requirement already satisfied: pyyaml<7.0,>=5.0 in c:\\users\\star\\anaconda3\\lib\\site-packages (from gradio) (6.0)\n",
      "Requirement already satisfied: requests~=2.0 in c:\\users\\star\\anaconda3\\lib\\site-packages (from gradio) (2.31.0)\n",
      "Requirement already satisfied: semantic-version~=2.0 in c:\\users\\star\\anaconda3\\lib\\site-packages (from gradio) (2.10.0)\n",
      "Requirement already satisfied: tomlkit==0.12.0 in c:\\users\\star\\anaconda3\\lib\\site-packages (from gradio) (0.12.0)\n",
      "Requirement already satisfied: typer[all]<1.0,>=0.9 in c:\\users\\star\\anaconda3\\lib\\site-packages (from gradio) (0.9.0)\n",
      "Requirement already satisfied: typing-extensions~=4.0 in c:\\users\\star\\anaconda3\\lib\\site-packages (from gradio) (4.8.0)\n",
      "Requirement already satisfied: uvicorn>=0.14.0 in c:\\users\\star\\anaconda3\\lib\\site-packages (from gradio) (0.24.0.post1)\n",
      "Requirement already satisfied: fsspec in c:\\users\\star\\anaconda3\\lib\\site-packages (from gradio-client==0.7.0->gradio) (2023.10.0)\n",
      "Requirement already satisfied: websockets<12.0,>=10.0 in c:\\users\\star\\anaconda3\\lib\\site-packages (from gradio-client==0.7.0->gradio) (11.0.3)\n",
      "Requirement already satisfied: jsonschema>=3.0 in c:\\users\\star\\anaconda3\\lib\\site-packages (from altair<6.0,>=4.2.0->gradio) (4.17.3)\n",
      "Requirement already satisfied: toolz in c:\\users\\star\\anaconda3\\lib\\site-packages (from altair<6.0,>=4.2.0->gradio) (0.12.0)\n",
      "Requirement already satisfied: filelock in c:\\users\\star\\anaconda3\\lib\\site-packages (from huggingface-hub>=0.14.0->gradio) (3.9.0)\n",
      "Requirement already satisfied: tqdm>=4.42.1 in c:\\users\\star\\anaconda3\\lib\\site-packages (from huggingface-hub>=0.14.0->gradio) (4.65.0)\n",
      "Requirement already satisfied: contourpy>=1.0.1 in c:\\users\\star\\anaconda3\\lib\\site-packages (from matplotlib~=3.0->gradio) (1.0.5)\n",
      "Requirement already satisfied: cycler>=0.10 in c:\\users\\star\\anaconda3\\lib\\site-packages (from matplotlib~=3.0->gradio) (0.11.0)\n",
      "Requirement already satisfied: fonttools>=4.22.0 in c:\\users\\star\\anaconda3\\lib\\site-packages (from matplotlib~=3.0->gradio) (4.25.0)\n",
      "Requirement already satisfied: kiwisolver>=1.0.1 in c:\\users\\star\\anaconda3\\lib\\site-packages (from matplotlib~=3.0->gradio) (1.4.4)\n",
      "Requirement already satisfied: pyparsing>=2.3.1 in c:\\users\\star\\anaconda3\\lib\\site-packages (from matplotlib~=3.0->gradio) (3.0.9)\n",
      "Requirement already satisfied: python-dateutil>=2.7 in c:\\users\\star\\anaconda3\\lib\\site-packages (from matplotlib~=3.0->gradio) (2.8.2)\n",
      "Requirement already satisfied: pytz>=2020.1 in c:\\users\\star\\anaconda3\\lib\\site-packages (from pandas<3.0,>=1.0->gradio) (2022.7)\n",
      "Requirement already satisfied: annotated-types>=0.4.0 in c:\\users\\star\\anaconda3\\lib\\site-packages (from pydantic>=2.0->gradio) (0.6.0)\n",
      "Requirement already satisfied: pydantic-core==2.14.3 in c:\\users\\star\\anaconda3\\lib\\site-packages (from pydantic>=2.0->gradio) (2.14.3)\n",
      "Requirement already satisfied: charset-normalizer<4,>=2 in c:\\users\\star\\anaconda3\\lib\\site-packages (from requests~=2.0->gradio) (2.0.4)\n",
      "Requirement already satisfied: idna<4,>=2.5 in c:\\users\\star\\anaconda3\\lib\\site-packages (from requests~=2.0->gradio) (3.4)\n",
      "Requirement already satisfied: urllib3<3,>=1.21.1 in c:\\users\\star\\anaconda3\\lib\\site-packages (from requests~=2.0->gradio) (1.26.16)\n",
      "Requirement already satisfied: certifi>=2017.4.17 in c:\\users\\star\\anaconda3\\lib\\site-packages (from requests~=2.0->gradio) (2023.7.22)\n",
      "Requirement already satisfied: click<9.0.0,>=7.1.1 in c:\\users\\star\\anaconda3\\lib\\site-packages (from typer[all]<1.0,>=0.9->gradio) (8.0.4)\n",
      "Requirement already satisfied: colorama<0.5.0,>=0.4.3 in c:\\users\\star\\anaconda3\\lib\\site-packages (from typer[all]<1.0,>=0.9->gradio) (0.4.6)\n",
      "Requirement already satisfied: shellingham<2.0.0,>=1.3.0 in c:\\users\\star\\anaconda3\\lib\\site-packages (from typer[all]<1.0,>=0.9->gradio) (1.5.4)\n",
      "Requirement already satisfied: rich<14.0.0,>=10.11.0 in c:\\users\\star\\anaconda3\\lib\\site-packages (from typer[all]<1.0,>=0.9->gradio) (13.7.0)\n",
      "Requirement already satisfied: h11>=0.8 in c:\\users\\star\\anaconda3\\lib\\site-packages (from uvicorn>=0.14.0->gradio) (0.14.0)\n",
      "Requirement already satisfied: anyio<4.0.0,>=3.7.1 in c:\\users\\star\\anaconda3\\lib\\site-packages (from fastapi->gradio) (3.7.1)\n",
      "Requirement already satisfied: starlette<0.28.0,>=0.27.0 in c:\\users\\star\\anaconda3\\lib\\site-packages (from fastapi->gradio) (0.27.0)\n",
      "Requirement already satisfied: httpcore in c:\\users\\star\\anaconda3\\lib\\site-packages (from httpx->gradio) (1.0.2)\n",
      "Requirement already satisfied: sniffio in c:\\users\\star\\anaconda3\\lib\\site-packages (from httpx->gradio) (1.2.0)\n",
      "Requirement already satisfied: attrs>=17.4.0 in c:\\users\\star\\anaconda3\\lib\\site-packages (from jsonschema>=3.0->altair<6.0,>=4.2.0->gradio) (22.1.0)\n",
      "Requirement already satisfied: pyrsistent!=0.17.0,!=0.17.1,!=0.17.2,>=0.14.0 in c:\\users\\star\\anaconda3\\lib\\site-packages (from jsonschema>=3.0->altair<6.0,>=4.2.0->gradio) (0.18.0)\n",
      "Requirement already satisfied: six>=1.5 in c:\\users\\star\\anaconda3\\lib\\site-packages (from python-dateutil>=2.7->matplotlib~=3.0->gradio) (1.16.0)\n",
      "Requirement already satisfied: markdown-it-py>=2.2.0 in c:\\users\\star\\anaconda3\\lib\\site-packages (from rich<14.0.0,>=10.11.0->typer[all]<1.0,>=0.9->gradio) (2.2.0)\n",
      "Requirement already satisfied: pygments<3.0.0,>=2.13.0 in c:\\users\\star\\anaconda3\\lib\\site-packages (from rich<14.0.0,>=10.11.0->typer[all]<1.0,>=0.9->gradio) (2.15.1)\n",
      "Requirement already satisfied: mdurl~=0.1 in c:\\users\\star\\anaconda3\\lib\\site-packages (from markdown-it-py>=2.2.0->rich<14.0.0,>=10.11.0->typer[all]<1.0,>=0.9->gradio) (0.1.0)\n"
     ]
    }
   ],
   "source": [
    "pip install gradio"
   ]
  },
  {
   "cell_type": "code",
   "execution_count": 9,
   "id": "def25485",
   "metadata": {},
   "outputs": [],
   "source": [
    "import gradio as gr\n"
   ]
  },
  {
   "cell_type": "code",
   "execution_count": 10,
   "id": "d9f4efdd",
   "metadata": {},
   "outputs": [
    {
     "name": "stderr",
     "output_type": "stream",
     "text": [
      "Traceback (most recent call last):\n",
      "  File \"C:\\Users\\star\\anaconda3\\Lib\\site-packages\\gradio\\queueing.py\", line 456, in call_prediction\n",
      "    output = await route_utils.call_process_api(\n",
      "             ^^^^^^^^^^^^^^^^^^^^^^^^^^^^^^^^^^^\n",
      "  File \"C:\\Users\\star\\anaconda3\\Lib\\site-packages\\gradio\\route_utils.py\", line 232, in call_process_api\n",
      "    output = await app.get_blocks().process_api(\n",
      "             ^^^^^^^^^^^^^^^^^^^^^^^^^^^^^^^^^^^\n",
      "  File \"C:\\Users\\star\\anaconda3\\Lib\\site-packages\\gradio\\blocks.py\", line 1522, in process_api\n",
      "    result = await self.call_function(\n",
      "             ^^^^^^^^^^^^^^^^^^^^^^^^^\n",
      "  File \"C:\\Users\\star\\anaconda3\\Lib\\site-packages\\gradio\\blocks.py\", line 1144, in call_function\n",
      "    prediction = await anyio.to_thread.run_sync(\n",
      "                 ^^^^^^^^^^^^^^^^^^^^^^^^^^^^^^^\n",
      "  File \"C:\\Users\\star\\anaconda3\\Lib\\site-packages\\anyio\\to_thread.py\", line 33, in run_sync\n",
      "    return await get_asynclib().run_sync_in_worker_thread(\n",
      "           ^^^^^^^^^^^^^^^^^^^^^^^^^^^^^^^^^^^^^^^^^^^^^^^\n",
      "  File \"C:\\Users\\star\\anaconda3\\Lib\\site-packages\\anyio\\_backends\\_asyncio.py\", line 877, in run_sync_in_worker_thread\n",
      "    return await future\n",
      "           ^^^^^^^^^^^^\n",
      "  File \"C:\\Users\\star\\anaconda3\\Lib\\site-packages\\anyio\\_backends\\_asyncio.py\", line 807, in run\n",
      "    result = context.run(func, *args)\n",
      "             ^^^^^^^^^^^^^^^^^^^^^^^^\n",
      "  File \"C:\\Users\\star\\anaconda3\\Lib\\site-packages\\gradio\\utils.py\", line 673, in wrapper\n",
      "    response = f(*args, **kwargs)\n",
      "               ^^^^^^^^^^^^^^^^^^\n",
      "  File \"C:\\Users\\star\\AppData\\Local\\Temp\\ipykernel_12124\\1012327573.py\", line 6, in predict_corona\n",
      "    prediction = dt_model.predict([[Cough_symptoms, fever, sore_throat, shortness_of_breath, headache, sex]])[0]\n",
      "                 ^^^^^^^^\n",
      "NameError: name 'dt_model' is not defined\n",
      "Traceback (most recent call last):\n",
      "  File \"C:\\Users\\star\\anaconda3\\Lib\\site-packages\\gradio\\queueing.py\", line 456, in call_prediction\n",
      "    output = await route_utils.call_process_api(\n",
      "             ^^^^^^^^^^^^^^^^^^^^^^^^^^^^^^^^^^^\n",
      "  File \"C:\\Users\\star\\anaconda3\\Lib\\site-packages\\gradio\\route_utils.py\", line 232, in call_process_api\n",
      "    output = await app.get_blocks().process_api(\n",
      "             ^^^^^^^^^^^^^^^^^^^^^^^^^^^^^^^^^^^\n",
      "  File \"C:\\Users\\star\\anaconda3\\Lib\\site-packages\\gradio\\blocks.py\", line 1522, in process_api\n",
      "    result = await self.call_function(\n",
      "             ^^^^^^^^^^^^^^^^^^^^^^^^^\n",
      "  File \"C:\\Users\\star\\anaconda3\\Lib\\site-packages\\gradio\\blocks.py\", line 1144, in call_function\n",
      "    prediction = await anyio.to_thread.run_sync(\n",
      "                 ^^^^^^^^^^^^^^^^^^^^^^^^^^^^^^^\n",
      "  File \"C:\\Users\\star\\anaconda3\\Lib\\site-packages\\anyio\\to_thread.py\", line 33, in run_sync\n",
      "    return await get_asynclib().run_sync_in_worker_thread(\n",
      "           ^^^^^^^^^^^^^^^^^^^^^^^^^^^^^^^^^^^^^^^^^^^^^^^\n",
      "  File \"C:\\Users\\star\\anaconda3\\Lib\\site-packages\\anyio\\_backends\\_asyncio.py\", line 877, in run_sync_in_worker_thread\n",
      "    return await future\n",
      "           ^^^^^^^^^^^^\n",
      "  File \"C:\\Users\\star\\anaconda3\\Lib\\site-packages\\anyio\\_backends\\_asyncio.py\", line 807, in run\n",
      "    result = context.run(func, *args)\n",
      "             ^^^^^^^^^^^^^^^^^^^^^^^^\n",
      "  File \"C:\\Users\\star\\anaconda3\\Lib\\site-packages\\gradio\\utils.py\", line 673, in wrapper\n",
      "    response = f(*args, **kwargs)\n",
      "               ^^^^^^^^^^^^^^^^^^\n",
      "  File \"C:\\Users\\star\\AppData\\Local\\Temp\\ipykernel_12124\\1012327573.py\", line 6, in predict_corona\n",
      "    prediction = dt_model.predict([[Cough_symptoms, fever, sore_throat, shortness_of_breath, headache, sex]])[0]\n",
      "                 ^^^^^^^^\n",
      "NameError: name 'dt_model' is not defined\n",
      "\n",
      "The above exception was the direct cause of the following exception:\n",
      "\n",
      "Traceback (most recent call last):\n",
      "  File \"C:\\Users\\star\\anaconda3\\Lib\\site-packages\\gradio\\queueing.py\", line 501, in process_events\n",
      "    response = await self.call_prediction(awake_events, batch)\n",
      "               ^^^^^^^^^^^^^^^^^^^^^^^^^^^^^^^^^^^^^^^^^^^^^^^\n",
      "  File \"C:\\Users\\star\\anaconda3\\Lib\\site-packages\\gradio\\queueing.py\", line 465, in call_prediction\n",
      "    raise Exception(str(error) if show_error else None) from error\n",
      "Exception: None\n",
      "Traceback (most recent call last):\n",
      "  File \"C:\\Users\\star\\anaconda3\\Lib\\site-packages\\gradio\\queueing.py\", line 456, in call_prediction\n",
      "    output = await route_utils.call_process_api(\n",
      "             ^^^^^^^^^^^^^^^^^^^^^^^^^^^^^^^^^^^\n",
      "  File \"C:\\Users\\star\\anaconda3\\Lib\\site-packages\\gradio\\route_utils.py\", line 232, in call_process_api\n",
      "    output = await app.get_blocks().process_api(\n",
      "             ^^^^^^^^^^^^^^^^^^^^^^^^^^^^^^^^^^^\n",
      "  File \"C:\\Users\\star\\anaconda3\\Lib\\site-packages\\gradio\\blocks.py\", line 1522, in process_api\n",
      "    result = await self.call_function(\n",
      "             ^^^^^^^^^^^^^^^^^^^^^^^^^\n",
      "  File \"C:\\Users\\star\\anaconda3\\Lib\\site-packages\\gradio\\blocks.py\", line 1144, in call_function\n",
      "    prediction = await anyio.to_thread.run_sync(\n",
      "                 ^^^^^^^^^^^^^^^^^^^^^^^^^^^^^^^\n",
      "  File \"C:\\Users\\star\\anaconda3\\Lib\\site-packages\\anyio\\to_thread.py\", line 33, in run_sync\n",
      "    return await get_asynclib().run_sync_in_worker_thread(\n",
      "           ^^^^^^^^^^^^^^^^^^^^^^^^^^^^^^^^^^^^^^^^^^^^^^^\n",
      "  File \"C:\\Users\\star\\anaconda3\\Lib\\site-packages\\anyio\\_backends\\_asyncio.py\", line 877, in run_sync_in_worker_thread\n",
      "    return await future\n",
      "           ^^^^^^^^^^^^\n",
      "  File \"C:\\Users\\star\\anaconda3\\Lib\\site-packages\\anyio\\_backends\\_asyncio.py\", line 807, in run\n",
      "    result = context.run(func, *args)\n",
      "             ^^^^^^^^^^^^^^^^^^^^^^^^\n",
      "  File \"C:\\Users\\star\\anaconda3\\Lib\\site-packages\\gradio\\utils.py\", line 673, in wrapper\n",
      "    response = f(*args, **kwargs)\n",
      "               ^^^^^^^^^^^^^^^^^^\n",
      "  File \"C:\\Users\\star\\AppData\\Local\\Temp\\ipykernel_12124\\1012327573.py\", line 6, in predict_corona\n",
      "    prediction = dt_model.predict([[Cough_symptoms, fever, sore_throat, shortness_of_breath, headache, sex]])[0]\n",
      "                 ^^^^^^^^\n",
      "NameError: name 'dt_model' is not defined\n",
      "Traceback (most recent call last):\n",
      "  File \"C:\\Users\\star\\anaconda3\\Lib\\site-packages\\gradio\\queueing.py\", line 456, in call_prediction\n",
      "    output = await route_utils.call_process_api(\n",
      "             ^^^^^^^^^^^^^^^^^^^^^^^^^^^^^^^^^^^\n",
      "  File \"C:\\Users\\star\\anaconda3\\Lib\\site-packages\\gradio\\route_utils.py\", line 232, in call_process_api\n",
      "    output = await app.get_blocks().process_api(\n",
      "             ^^^^^^^^^^^^^^^^^^^^^^^^^^^^^^^^^^^\n",
      "  File \"C:\\Users\\star\\anaconda3\\Lib\\site-packages\\gradio\\blocks.py\", line 1522, in process_api\n",
      "    result = await self.call_function(\n",
      "             ^^^^^^^^^^^^^^^^^^^^^^^^^\n",
      "  File \"C:\\Users\\star\\anaconda3\\Lib\\site-packages\\gradio\\blocks.py\", line 1144, in call_function\n",
      "    prediction = await anyio.to_thread.run_sync(\n",
      "                 ^^^^^^^^^^^^^^^^^^^^^^^^^^^^^^^\n",
      "  File \"C:\\Users\\star\\anaconda3\\Lib\\site-packages\\anyio\\to_thread.py\", line 33, in run_sync\n",
      "    return await get_asynclib().run_sync_in_worker_thread(\n",
      "           ^^^^^^^^^^^^^^^^^^^^^^^^^^^^^^^^^^^^^^^^^^^^^^^\n",
      "  File \"C:\\Users\\star\\anaconda3\\Lib\\site-packages\\anyio\\_backends\\_asyncio.py\", line 877, in run_sync_in_worker_thread\n",
      "    return await future\n",
      "           ^^^^^^^^^^^^\n",
      "  File \"C:\\Users\\star\\anaconda3\\Lib\\site-packages\\anyio\\_backends\\_asyncio.py\", line 807, in run\n",
      "    result = context.run(func, *args)\n",
      "             ^^^^^^^^^^^^^^^^^^^^^^^^\n",
      "  File \"C:\\Users\\star\\anaconda3\\Lib\\site-packages\\gradio\\utils.py\", line 673, in wrapper\n",
      "    response = f(*args, **kwargs)\n",
      "               ^^^^^^^^^^^^^^^^^^\n",
      "  File \"C:\\Users\\star\\AppData\\Local\\Temp\\ipykernel_12124\\1012327573.py\", line 6, in predict_corona\n",
      "    prediction = dt_model.predict([[Cough_symptoms, fever, sore_throat, shortness_of_breath, headache, sex]])[0]\n",
      "                 ^^^^^^^^\n",
      "NameError: name 'dt_model' is not defined\n",
      "\n",
      "The above exception was the direct cause of the following exception:\n",
      "\n",
      "Traceback (most recent call last):\n",
      "  File \"C:\\Users\\star\\anaconda3\\Lib\\site-packages\\gradio\\queueing.py\", line 501, in process_events\n",
      "    response = await self.call_prediction(awake_events, batch)\n",
      "               ^^^^^^^^^^^^^^^^^^^^^^^^^^^^^^^^^^^^^^^^^^^^^^^\n",
      "  File \"C:\\Users\\star\\anaconda3\\Lib\\site-packages\\gradio\\queueing.py\", line 465, in call_prediction\n",
      "    raise Exception(str(error) if show_error else None) from error\n",
      "Exception: None\n",
      "Traceback (most recent call last):\n",
      "  File \"C:\\Users\\star\\anaconda3\\Lib\\site-packages\\gradio\\queueing.py\", line 456, in call_prediction\n",
      "    output = await route_utils.call_process_api(\n",
      "             ^^^^^^^^^^^^^^^^^^^^^^^^^^^^^^^^^^^\n",
      "  File \"C:\\Users\\star\\anaconda3\\Lib\\site-packages\\gradio\\route_utils.py\", line 232, in call_process_api\n",
      "    output = await app.get_blocks().process_api(\n",
      "             ^^^^^^^^^^^^^^^^^^^^^^^^^^^^^^^^^^^\n",
      "  File \"C:\\Users\\star\\anaconda3\\Lib\\site-packages\\gradio\\blocks.py\", line 1522, in process_api\n",
      "    result = await self.call_function(\n",
      "             ^^^^^^^^^^^^^^^^^^^^^^^^^\n",
      "  File \"C:\\Users\\star\\anaconda3\\Lib\\site-packages\\gradio\\blocks.py\", line 1144, in call_function\n",
      "    prediction = await anyio.to_thread.run_sync(\n",
      "                 ^^^^^^^^^^^^^^^^^^^^^^^^^^^^^^^\n",
      "  File \"C:\\Users\\star\\anaconda3\\Lib\\site-packages\\anyio\\to_thread.py\", line 33, in run_sync\n",
      "    return await get_asynclib().run_sync_in_worker_thread(\n",
      "           ^^^^^^^^^^^^^^^^^^^^^^^^^^^^^^^^^^^^^^^^^^^^^^^\n",
      "  File \"C:\\Users\\star\\anaconda3\\Lib\\site-packages\\anyio\\_backends\\_asyncio.py\", line 877, in run_sync_in_worker_thread\n",
      "    return await future\n",
      "           ^^^^^^^^^^^^\n",
      "  File \"C:\\Users\\star\\anaconda3\\Lib\\site-packages\\anyio\\_backends\\_asyncio.py\", line 807, in run\n",
      "    result = context.run(func, *args)\n",
      "             ^^^^^^^^^^^^^^^^^^^^^^^^\n",
      "  File \"C:\\Users\\star\\anaconda3\\Lib\\site-packages\\gradio\\utils.py\", line 673, in wrapper\n",
      "    response = f(*args, **kwargs)\n",
      "               ^^^^^^^^^^^^^^^^^^\n",
      "  File \"C:\\Users\\star\\AppData\\Local\\Temp\\ipykernel_12124\\1012327573.py\", line 6, in predict_corona\n",
      "    prediction = dt_model.predict([[Cough_symptoms, fever, sore_throat, shortness_of_breath, headache, sex]])[0]\n",
      "                 ^^^^^^^^\n",
      "NameError: name 'dt_model' is not defined\n",
      "Traceback (most recent call last):\n",
      "  File \"C:\\Users\\star\\anaconda3\\Lib\\site-packages\\gradio\\queueing.py\", line 456, in call_prediction\n",
      "    output = await route_utils.call_process_api(\n",
      "             ^^^^^^^^^^^^^^^^^^^^^^^^^^^^^^^^^^^\n",
      "  File \"C:\\Users\\star\\anaconda3\\Lib\\site-packages\\gradio\\route_utils.py\", line 232, in call_process_api\n",
      "    output = await app.get_blocks().process_api(\n",
      "             ^^^^^^^^^^^^^^^^^^^^^^^^^^^^^^^^^^^\n",
      "  File \"C:\\Users\\star\\anaconda3\\Lib\\site-packages\\gradio\\blocks.py\", line 1522, in process_api\n",
      "    result = await self.call_function(\n",
      "             ^^^^^^^^^^^^^^^^^^^^^^^^^\n",
      "  File \"C:\\Users\\star\\anaconda3\\Lib\\site-packages\\gradio\\blocks.py\", line 1144, in call_function\n",
      "    prediction = await anyio.to_thread.run_sync(\n",
      "                 ^^^^^^^^^^^^^^^^^^^^^^^^^^^^^^^\n",
      "  File \"C:\\Users\\star\\anaconda3\\Lib\\site-packages\\anyio\\to_thread.py\", line 33, in run_sync\n",
      "    return await get_asynclib().run_sync_in_worker_thread(\n",
      "           ^^^^^^^^^^^^^^^^^^^^^^^^^^^^^^^^^^^^^^^^^^^^^^^\n",
      "  File \"C:\\Users\\star\\anaconda3\\Lib\\site-packages\\anyio\\_backends\\_asyncio.py\", line 877, in run_sync_in_worker_thread\n",
      "    return await future\n",
      "           ^^^^^^^^^^^^\n",
      "  File \"C:\\Users\\star\\anaconda3\\Lib\\site-packages\\anyio\\_backends\\_asyncio.py\", line 807, in run\n",
      "    result = context.run(func, *args)\n",
      "             ^^^^^^^^^^^^^^^^^^^^^^^^\n",
      "  File \"C:\\Users\\star\\anaconda3\\Lib\\site-packages\\gradio\\utils.py\", line 673, in wrapper\n",
      "    response = f(*args, **kwargs)\n",
      "               ^^^^^^^^^^^^^^^^^^\n",
      "  File \"C:\\Users\\star\\AppData\\Local\\Temp\\ipykernel_12124\\1012327573.py\", line 6, in predict_corona\n",
      "    prediction = dt_model.predict([[Cough_symptoms, fever, sore_throat, shortness_of_breath, headache, sex]])[0]\n",
      "                 ^^^^^^^^\n",
      "NameError: name 'dt_model' is not defined\n",
      "\n",
      "The above exception was the direct cause of the following exception:\n",
      "\n",
      "Traceback (most recent call last):\n",
      "  File \"C:\\Users\\star\\anaconda3\\Lib\\site-packages\\gradio\\queueing.py\", line 501, in process_events\n",
      "    response = await self.call_prediction(awake_events, batch)\n",
      "               ^^^^^^^^^^^^^^^^^^^^^^^^^^^^^^^^^^^^^^^^^^^^^^^\n",
      "  File \"C:\\Users\\star\\anaconda3\\Lib\\site-packages\\gradio\\queueing.py\", line 465, in call_prediction\n",
      "    raise Exception(str(error) if show_error else None) from error\n",
      "Exception: None\n"
     ]
    },
    {
     "name": "stderr",
     "output_type": "stream",
     "text": [
      "Traceback (most recent call last):\n",
      "  File \"C:\\Users\\star\\anaconda3\\Lib\\site-packages\\gradio\\queueing.py\", line 456, in call_prediction\n",
      "    output = await route_utils.call_process_api(\n",
      "             ^^^^^^^^^^^^^^^^^^^^^^^^^^^^^^^^^^^\n",
      "  File \"C:\\Users\\star\\anaconda3\\Lib\\site-packages\\gradio\\route_utils.py\", line 232, in call_process_api\n",
      "    output = await app.get_blocks().process_api(\n",
      "             ^^^^^^^^^^^^^^^^^^^^^^^^^^^^^^^^^^^\n",
      "  File \"C:\\Users\\star\\anaconda3\\Lib\\site-packages\\gradio\\blocks.py\", line 1522, in process_api\n",
      "    result = await self.call_function(\n",
      "             ^^^^^^^^^^^^^^^^^^^^^^^^^\n",
      "  File \"C:\\Users\\star\\anaconda3\\Lib\\site-packages\\gradio\\blocks.py\", line 1144, in call_function\n",
      "    prediction = await anyio.to_thread.run_sync(\n",
      "                 ^^^^^^^^^^^^^^^^^^^^^^^^^^^^^^^\n",
      "  File \"C:\\Users\\star\\anaconda3\\Lib\\site-packages\\anyio\\to_thread.py\", line 33, in run_sync\n",
      "    return await get_asynclib().run_sync_in_worker_thread(\n",
      "           ^^^^^^^^^^^^^^^^^^^^^^^^^^^^^^^^^^^^^^^^^^^^^^^\n",
      "  File \"C:\\Users\\star\\anaconda3\\Lib\\site-packages\\anyio\\_backends\\_asyncio.py\", line 877, in run_sync_in_worker_thread\n",
      "    return await future\n",
      "           ^^^^^^^^^^^^\n",
      "  File \"C:\\Users\\star\\anaconda3\\Lib\\site-packages\\anyio\\_backends\\_asyncio.py\", line 807, in run\n",
      "    result = context.run(func, *args)\n",
      "             ^^^^^^^^^^^^^^^^^^^^^^^^\n",
      "  File \"C:\\Users\\star\\anaconda3\\Lib\\site-packages\\gradio\\utils.py\", line 673, in wrapper\n",
      "    response = f(*args, **kwargs)\n",
      "               ^^^^^^^^^^^^^^^^^^\n",
      "  File \"C:\\Users\\star\\AppData\\Local\\Temp\\ipykernel_12124\\1012327573.py\", line 6, in predict_corona\n",
      "    prediction = dt_model.predict([[Cough_symptoms, fever, sore_throat, shortness_of_breath, headache, sex]])[0]\n",
      "                 ^^^^^^^^\n",
      "NameError: name 'dt_model' is not defined\n",
      "Traceback (most recent call last):\n",
      "  File \"C:\\Users\\star\\anaconda3\\Lib\\site-packages\\gradio\\queueing.py\", line 456, in call_prediction\n",
      "    output = await route_utils.call_process_api(\n",
      "             ^^^^^^^^^^^^^^^^^^^^^^^^^^^^^^^^^^^\n",
      "  File \"C:\\Users\\star\\anaconda3\\Lib\\site-packages\\gradio\\route_utils.py\", line 232, in call_process_api\n",
      "    output = await app.get_blocks().process_api(\n",
      "             ^^^^^^^^^^^^^^^^^^^^^^^^^^^^^^^^^^^\n",
      "  File \"C:\\Users\\star\\anaconda3\\Lib\\site-packages\\gradio\\blocks.py\", line 1522, in process_api\n",
      "    result = await self.call_function(\n",
      "             ^^^^^^^^^^^^^^^^^^^^^^^^^\n",
      "  File \"C:\\Users\\star\\anaconda3\\Lib\\site-packages\\gradio\\blocks.py\", line 1144, in call_function\n",
      "    prediction = await anyio.to_thread.run_sync(\n",
      "                 ^^^^^^^^^^^^^^^^^^^^^^^^^^^^^^^\n",
      "  File \"C:\\Users\\star\\anaconda3\\Lib\\site-packages\\anyio\\to_thread.py\", line 33, in run_sync\n",
      "    return await get_asynclib().run_sync_in_worker_thread(\n",
      "           ^^^^^^^^^^^^^^^^^^^^^^^^^^^^^^^^^^^^^^^^^^^^^^^\n",
      "  File \"C:\\Users\\star\\anaconda3\\Lib\\site-packages\\anyio\\_backends\\_asyncio.py\", line 877, in run_sync_in_worker_thread\n",
      "    return await future\n",
      "           ^^^^^^^^^^^^\n",
      "  File \"C:\\Users\\star\\anaconda3\\Lib\\site-packages\\anyio\\_backends\\_asyncio.py\", line 807, in run\n",
      "    result = context.run(func, *args)\n",
      "             ^^^^^^^^^^^^^^^^^^^^^^^^\n",
      "  File \"C:\\Users\\star\\anaconda3\\Lib\\site-packages\\gradio\\utils.py\", line 673, in wrapper\n",
      "    response = f(*args, **kwargs)\n",
      "               ^^^^^^^^^^^^^^^^^^\n",
      "  File \"C:\\Users\\star\\AppData\\Local\\Temp\\ipykernel_12124\\1012327573.py\", line 6, in predict_corona\n",
      "    prediction = dt_model.predict([[Cough_symptoms, fever, sore_throat, shortness_of_breath, headache, sex]])[0]\n",
      "                 ^^^^^^^^\n",
      "NameError: name 'dt_model' is not defined\n",
      "\n",
      "The above exception was the direct cause of the following exception:\n",
      "\n",
      "Traceback (most recent call last):\n",
      "  File \"C:\\Users\\star\\anaconda3\\Lib\\site-packages\\gradio\\queueing.py\", line 501, in process_events\n",
      "    response = await self.call_prediction(awake_events, batch)\n",
      "               ^^^^^^^^^^^^^^^^^^^^^^^^^^^^^^^^^^^^^^^^^^^^^^^\n",
      "  File \"C:\\Users\\star\\anaconda3\\Lib\\site-packages\\gradio\\queueing.py\", line 465, in call_prediction\n",
      "    raise Exception(str(error) if show_error else None) from error\n",
      "Exception: None\n"
     ]
    }
   ],
   "source": [
    "from sklearn.tree import DecisionTreeClassifier\n"
   ]
  },
  {
   "cell_type": "code",
   "execution_count": 16,
   "id": "d71335d1",
   "metadata": {},
   "outputs": [],
   "source": [
    "df3 = pd.read_csv(r\"C:\\Users\\star\\Desktop\\project corona\\output_file.csv\")"
   ]
  },
  {
   "cell_type": "code",
   "execution_count": 18,
   "id": "5d617be9",
   "metadata": {},
   "outputs": [],
   "source": [
    "X = df3[['Cough_symptoms', 'Fever', 'Sore_throat', 'Shortness_of_breath', 'Headache', 'Sex']]\n",
    "y = df3['Corona']"
   ]
  },
  {
   "cell_type": "code",
   "execution_count": 19,
   "id": "01aabd36",
   "metadata": {},
   "outputs": [],
   "source": [
    "from sklearn.model_selection import train_test_split\n",
    "X_train, X_test, y_train, y_test = train_test_split(X, y, test_size=0.2, random_state=0)\n"
   ]
  },
  {
   "cell_type": "code",
   "execution_count": 20,
   "id": "46598861",
   "metadata": {},
   "outputs": [
    {
     "data": {
      "text/html": [
       "<style>#sk-container-id-1 {color: black;}#sk-container-id-1 pre{padding: 0;}#sk-container-id-1 div.sk-toggleable {background-color: white;}#sk-container-id-1 label.sk-toggleable__label {cursor: pointer;display: block;width: 100%;margin-bottom: 0;padding: 0.3em;box-sizing: border-box;text-align: center;}#sk-container-id-1 label.sk-toggleable__label-arrow:before {content: \"▸\";float: left;margin-right: 0.25em;color: #696969;}#sk-container-id-1 label.sk-toggleable__label-arrow:hover:before {color: black;}#sk-container-id-1 div.sk-estimator:hover label.sk-toggleable__label-arrow:before {color: black;}#sk-container-id-1 div.sk-toggleable__content {max-height: 0;max-width: 0;overflow: hidden;text-align: left;background-color: #f0f8ff;}#sk-container-id-1 div.sk-toggleable__content pre {margin: 0.2em;color: black;border-radius: 0.25em;background-color: #f0f8ff;}#sk-container-id-1 input.sk-toggleable__control:checked~div.sk-toggleable__content {max-height: 200px;max-width: 100%;overflow: auto;}#sk-container-id-1 input.sk-toggleable__control:checked~label.sk-toggleable__label-arrow:before {content: \"▾\";}#sk-container-id-1 div.sk-estimator input.sk-toggleable__control:checked~label.sk-toggleable__label {background-color: #d4ebff;}#sk-container-id-1 div.sk-label input.sk-toggleable__control:checked~label.sk-toggleable__label {background-color: #d4ebff;}#sk-container-id-1 input.sk-hidden--visually {border: 0;clip: rect(1px 1px 1px 1px);clip: rect(1px, 1px, 1px, 1px);height: 1px;margin: -1px;overflow: hidden;padding: 0;position: absolute;width: 1px;}#sk-container-id-1 div.sk-estimator {font-family: monospace;background-color: #f0f8ff;border: 1px dotted black;border-radius: 0.25em;box-sizing: border-box;margin-bottom: 0.5em;}#sk-container-id-1 div.sk-estimator:hover {background-color: #d4ebff;}#sk-container-id-1 div.sk-parallel-item::after {content: \"\";width: 100%;border-bottom: 1px solid gray;flex-grow: 1;}#sk-container-id-1 div.sk-label:hover label.sk-toggleable__label {background-color: #d4ebff;}#sk-container-id-1 div.sk-serial::before {content: \"\";position: absolute;border-left: 1px solid gray;box-sizing: border-box;top: 0;bottom: 0;left: 50%;z-index: 0;}#sk-container-id-1 div.sk-serial {display: flex;flex-direction: column;align-items: center;background-color: white;padding-right: 0.2em;padding-left: 0.2em;position: relative;}#sk-container-id-1 div.sk-item {position: relative;z-index: 1;}#sk-container-id-1 div.sk-parallel {display: flex;align-items: stretch;justify-content: center;background-color: white;position: relative;}#sk-container-id-1 div.sk-item::before, #sk-container-id-1 div.sk-parallel-item::before {content: \"\";position: absolute;border-left: 1px solid gray;box-sizing: border-box;top: 0;bottom: 0;left: 50%;z-index: -1;}#sk-container-id-1 div.sk-parallel-item {display: flex;flex-direction: column;z-index: 1;position: relative;background-color: white;}#sk-container-id-1 div.sk-parallel-item:first-child::after {align-self: flex-end;width: 50%;}#sk-container-id-1 div.sk-parallel-item:last-child::after {align-self: flex-start;width: 50%;}#sk-container-id-1 div.sk-parallel-item:only-child::after {width: 0;}#sk-container-id-1 div.sk-dashed-wrapped {border: 1px dashed gray;margin: 0 0.4em 0.5em 0.4em;box-sizing: border-box;padding-bottom: 0.4em;background-color: white;}#sk-container-id-1 div.sk-label label {font-family: monospace;font-weight: bold;display: inline-block;line-height: 1.2em;}#sk-container-id-1 div.sk-label-container {text-align: center;}#sk-container-id-1 div.sk-container {/* jupyter's `normalize.less` sets `[hidden] { display: none; }` but bootstrap.min.css set `[hidden] { display: none !important; }` so we also need the `!important` here to be able to override the default hidden behavior on the sphinx rendered scikit-learn.org. See: https://github.com/scikit-learn/scikit-learn/issues/21755 */display: inline-block !important;position: relative;}#sk-container-id-1 div.sk-text-repr-fallback {display: none;}</style><div id=\"sk-container-id-1\" class=\"sk-top-container\"><div class=\"sk-text-repr-fallback\"><pre>DecisionTreeClassifier()</pre><b>In a Jupyter environment, please rerun this cell to show the HTML representation or trust the notebook. <br />On GitHub, the HTML representation is unable to render, please try loading this page with nbviewer.org.</b></div><div class=\"sk-container\" hidden><div class=\"sk-item\"><div class=\"sk-estimator sk-toggleable\"><input class=\"sk-toggleable__control sk-hidden--visually\" id=\"sk-estimator-id-1\" type=\"checkbox\" checked><label for=\"sk-estimator-id-1\" class=\"sk-toggleable__label sk-toggleable__label-arrow\">DecisionTreeClassifier</label><div class=\"sk-toggleable__content\"><pre>DecisionTreeClassifier()</pre></div></div></div></div></div>"
      ],
      "text/plain": [
       "DecisionTreeClassifier()"
      ]
     },
     "execution_count": 20,
     "metadata": {},
     "output_type": "execute_result"
    }
   ],
   "source": [
    "dt_model = DecisionTreeClassifier()\n",
    "\n",
    "# Train the model\n",
    "dt_model.fit(X_train, y_train)"
   ]
  },
  {
   "cell_type": "code",
   "execution_count": 1,
   "id": "7ab0daf6",
   "metadata": {},
   "outputs": [],
   "source": [
    "import duckdb"
   ]
  },
  {
   "cell_type": "code",
   "execution_count": 13,
   "id": "425cc610",
   "metadata": {},
   "outputs": [
    {
     "name": "stdout",
     "output_type": "stream",
     "text": [
      "Running on local URL:  http://127.0.0.1:7865\n",
      "\n",
      "To create a public link, set `share=True` in `launch()`.\n"
     ]
    },
    {
     "data": {
      "text/html": [
       "<div><iframe src=\"http://127.0.0.1:7865/\" width=\"100%\" height=\"500\" allow=\"autoplay; camera; microphone; clipboard-read; clipboard-write;\" frameborder=\"0\" allowfullscreen></iframe></div>"
      ],
      "text/plain": [
       "<IPython.core.display.HTML object>"
      ]
     },
     "metadata": {},
     "output_type": "display_data"
    },
    {
     "data": {
      "text/plain": []
     },
     "execution_count": 13,
     "metadata": {},
     "output_type": "execute_result"
    },
    {
     "name": "stderr",
     "output_type": "stream",
     "text": [
      "Traceback (most recent call last):\n",
      "  File \"C:\\Users\\star\\anaconda3\\Lib\\site-packages\\gradio\\queueing.py\", line 456, in call_prediction\n",
      "    output = await route_utils.call_process_api(\n",
      "             ^^^^^^^^^^^^^^^^^^^^^^^^^^^^^^^^^^^\n",
      "  File \"C:\\Users\\star\\anaconda3\\Lib\\site-packages\\gradio\\route_utils.py\", line 232, in call_process_api\n",
      "    output = await app.get_blocks().process_api(\n",
      "             ^^^^^^^^^^^^^^^^^^^^^^^^^^^^^^^^^^^\n",
      "  File \"C:\\Users\\star\\anaconda3\\Lib\\site-packages\\gradio\\blocks.py\", line 1522, in process_api\n",
      "    result = await self.call_function(\n",
      "             ^^^^^^^^^^^^^^^^^^^^^^^^^\n",
      "  File \"C:\\Users\\star\\anaconda3\\Lib\\site-packages\\gradio\\blocks.py\", line 1144, in call_function\n",
      "    prediction = await anyio.to_thread.run_sync(\n",
      "                 ^^^^^^^^^^^^^^^^^^^^^^^^^^^^^^^\n",
      "  File \"C:\\Users\\star\\anaconda3\\Lib\\site-packages\\anyio\\to_thread.py\", line 33, in run_sync\n",
      "    return await get_asynclib().run_sync_in_worker_thread(\n",
      "           ^^^^^^^^^^^^^^^^^^^^^^^^^^^^^^^^^^^^^^^^^^^^^^^\n",
      "  File \"C:\\Users\\star\\anaconda3\\Lib\\site-packages\\anyio\\_backends\\_asyncio.py\", line 877, in run_sync_in_worker_thread\n",
      "    return await future\n",
      "           ^^^^^^^^^^^^\n",
      "  File \"C:\\Users\\star\\anaconda3\\Lib\\site-packages\\anyio\\_backends\\_asyncio.py\", line 807, in run\n",
      "    result = context.run(func, *args)\n",
      "             ^^^^^^^^^^^^^^^^^^^^^^^^\n",
      "  File \"C:\\Users\\star\\anaconda3\\Lib\\site-packages\\gradio\\utils.py\", line 673, in wrapper\n",
      "    response = f(*args, **kwargs)\n",
      "               ^^^^^^^^^^^^^^^^^^\n",
      "  File \"C:\\Users\\star\\AppData\\Local\\Temp\\ipykernel_12124\\3699411756.py\", line 4, in predict_corona\n",
      "    Cough_symptoms , Fever, Sore_throat, Shortness_of_breath, Headache, Sex = float(cough), float(fever), float(sore_throat), float(shortness_of_breath), float(headache), float(sex)\n",
      "                                                                                    ^^^^^\n",
      "NameError: name 'cough' is not defined\n",
      "Traceback (most recent call last):\n",
      "  File \"C:\\Users\\star\\anaconda3\\Lib\\site-packages\\gradio\\queueing.py\", line 456, in call_prediction\n",
      "    output = await route_utils.call_process_api(\n",
      "             ^^^^^^^^^^^^^^^^^^^^^^^^^^^^^^^^^^^\n",
      "  File \"C:\\Users\\star\\anaconda3\\Lib\\site-packages\\gradio\\route_utils.py\", line 232, in call_process_api\n",
      "    output = await app.get_blocks().process_api(\n",
      "             ^^^^^^^^^^^^^^^^^^^^^^^^^^^^^^^^^^^\n",
      "  File \"C:\\Users\\star\\anaconda3\\Lib\\site-packages\\gradio\\blocks.py\", line 1522, in process_api\n",
      "    result = await self.call_function(\n",
      "             ^^^^^^^^^^^^^^^^^^^^^^^^^\n",
      "  File \"C:\\Users\\star\\anaconda3\\Lib\\site-packages\\gradio\\blocks.py\", line 1144, in call_function\n",
      "    prediction = await anyio.to_thread.run_sync(\n",
      "                 ^^^^^^^^^^^^^^^^^^^^^^^^^^^^^^^\n",
      "  File \"C:\\Users\\star\\anaconda3\\Lib\\site-packages\\anyio\\to_thread.py\", line 33, in run_sync\n",
      "    return await get_asynclib().run_sync_in_worker_thread(\n",
      "           ^^^^^^^^^^^^^^^^^^^^^^^^^^^^^^^^^^^^^^^^^^^^^^^\n",
      "  File \"C:\\Users\\star\\anaconda3\\Lib\\site-packages\\anyio\\_backends\\_asyncio.py\", line 877, in run_sync_in_worker_thread\n",
      "    return await future\n",
      "           ^^^^^^^^^^^^\n",
      "  File \"C:\\Users\\star\\anaconda3\\Lib\\site-packages\\anyio\\_backends\\_asyncio.py\", line 807, in run\n",
      "    result = context.run(func, *args)\n",
      "             ^^^^^^^^^^^^^^^^^^^^^^^^\n",
      "  File \"C:\\Users\\star\\anaconda3\\Lib\\site-packages\\gradio\\utils.py\", line 673, in wrapper\n",
      "    response = f(*args, **kwargs)\n",
      "               ^^^^^^^^^^^^^^^^^^\n",
      "  File \"C:\\Users\\star\\AppData\\Local\\Temp\\ipykernel_12124\\3699411756.py\", line 4, in predict_corona\n",
      "    Cough_symptoms , Fever, Sore_throat, Shortness_of_breath, Headache, Sex = float(cough), float(fever), float(sore_throat), float(shortness_of_breath), float(headache), float(sex)\n",
      "                                                                                    ^^^^^\n",
      "NameError: name 'cough' is not defined\n",
      "\n",
      "The above exception was the direct cause of the following exception:\n",
      "\n",
      "Traceback (most recent call last):\n",
      "  File \"C:\\Users\\star\\anaconda3\\Lib\\site-packages\\gradio\\queueing.py\", line 501, in process_events\n",
      "    response = await self.call_prediction(awake_events, batch)\n",
      "               ^^^^^^^^^^^^^^^^^^^^^^^^^^^^^^^^^^^^^^^^^^^^^^^\n",
      "  File \"C:\\Users\\star\\anaconda3\\Lib\\site-packages\\gradio\\queueing.py\", line 465, in call_prediction\n",
      "    raise Exception(str(error) if show_error else None) from error\n",
      "Exception: None\n"
     ]
    }
   ],
   "source": [
    "import gradio as gr\n",
    "def predict_corona(Cough_symptoms, Fever, Sore_throat, Shortness_of_breath, Headache, Sex):\n",
    "    # Convert input values to float\n",
    "    Cough_symptoms , Fever, Sore_throat, Shortness_of_breath, Headache, Sex = float(cough), float(fever), float(sore_throat), float(shortness_of_breath), float(headache), float(sex)\n",
    "    \n",
    "    # Make a prediction using the Decision Tree model\n",
    "    prediction = dt_model.predict([[Cough_symptoms, fever, Sore_throat, Shortness_of_breath, Headache, Sex]])[0]\n",
    "    \n",
    "    return f\"Predicted Corona Status: {prediction}\"\n",
    "\n",
    "# Create a Gradio interface\n",
    "iface = gr.Interface(\n",
    "    fn=predict_corona,\n",
    "    inputs=[\"text\", \"text\", \"text\", \"text\", \"text\", \"text\"],\n",
    "    outputs=\"text\",\n",
    "    title=\"Corona Prediction Model\",\n",
    "    description=\"Enter the symptoms and sex to predict the Corona status\",\n",
    ")\n",
    "\n",
    "# Launch the Gradio interface\n",
    "iface.launch()"
   ]
  },
  {
   "cell_type": "code",
   "execution_count": 18,
   "id": "513c6bc7",
   "metadata": {},
   "outputs": [],
   "source": [
    "df5=pd.read_csv(r\"C:\\Users\\star\\Desktop\\project corona\\corona_ test.csv\")"
   ]
  },
  {
   "cell_type": "code",
   "execution_count": 9,
   "id": "6d43daf0",
   "metadata": {},
   "outputs": [
    {
     "data": {
      "text/plain": [
       "<duckdb.duckdb.DuckDBPyConnection at 0x16e29e5bb70>"
      ]
     },
     "execution_count": 9,
     "metadata": {},
     "output_type": "execute_result"
    }
   ],
   "source": [
    "conn=duckdb.connect()\n",
    "conn.register('df5',df5)"
   ]
  },
  {
   "cell_type": "code",
   "execution_count": 20,
   "id": "a6a9af4d",
   "metadata": {},
   "outputs": [
    {
     "name": "stdout",
     "output_type": "stream",
     "text": [
      "[(1577,)]\n"
     ]
    }
   ],
   "source": [
    "# Write an SQL query to find the number of patients who faced shortness of breath\n",
    "query = '''\n",
    "SELECT COUNT(*) AS num_patients_short_of_breath\n",
    "FROM df5\n",
    "WHERE Shortness_of_breath = 'TRUE'\n",
    "'''\n",
    "\n",
    "# Execute the query and fetch the result\n",
    "result = conn.execute(query).fetchall()\n",
    "\n",
    "# Print the result\n",
    "print(result)"
   ]
  },
  {
   "cell_type": "code",
   "execution_count": 21,
   "id": "cdc725a9",
   "metadata": {},
   "outputs": [
    {
     "name": "stdout",
     "output_type": "stream",
     "text": [
      "[(142,)]\n"
     ]
    }
   ],
   "source": [
    "# Write an SQL query to find the number of negative patients with fever and sore throat\n",
    "query = '''\n",
    "SELECT COUNT(*) AS num_negative_patients\n",
    "FROM df5\n",
    "WHERE Corona = 'negative' AND fever = 'TRUE' AND Sore_throat = 'TRUE'\n",
    "'''\n",
    "\n",
    "# Execute the query and fetch the result\n",
    "result = conn.execute(query).fetchall()\n",
    "\n",
    "# Print the result\n",
    "print(result)"
   ]
  },
  {
   "cell_type": "code",
   "execution_count": null,
   "id": "5aa8b7fc",
   "metadata": {},
   "outputs": [],
   "source": [
    "# Write an SQL query to group by month and rank the number of positive cases\n",
    "query = '''\n",
    "SELECT\n",
    "    MONTH(Test_date) AS Month,\n",
    "    COUNT(*) AS TotalCases,\n",
    "    RANK() OVER (ORDER BY COUNT(*) DESC) AS PositiveCasesRank\n",
    "FROM df2\n",
    "WHERE Corona = 'positive'\n",
    "GROUP BY Month\n",
    "ORDER BY Month;\n",
    "\n",
    "'''\n",
    "result = conn.execute(query).fetchall()\n",
    "print(result)"
   ]
  },
  {
   "cell_type": "code",
   "execution_count": 22,
   "id": "fdb44b69",
   "metadata": {},
   "outputs": [
    {
     "name": "stdout",
     "output_type": "stream",
     "text": [
      "[(69,)]\n"
     ]
    }
   ],
   "source": [
    "# Write an SQL query to find female negative patients with cough and headache\n",
    "query = '''\n",
    "SELECT COUNT(*) AS num_female_negative_patients\n",
    "FROM df5\n",
    "WHERE Sex = 'female'\n",
    "  AND Corona = 'negative'\n",
    "  AND Cough_symptoms = 'TRUE'\n",
    "  AND Headache = 'TRUE';\n",
    "'''\n",
    "\n",
    "# Execute the query and fetch the result\n",
    "result = conn.execute(query).fetchall()\n",
    "print(result)"
   ]
  },
  {
   "cell_type": "code",
   "execution_count": 23,
   "id": "a7325ae4",
   "metadata": {},
   "outputs": [
    {
     "name": "stdout",
     "output_type": "stream",
     "text": [
      "[(263,)]\n"
     ]
    }
   ],
   "source": [
    "#How many elderly corona patients have faced breathing problems?\n",
    "query = '''\n",
    "SELECT COUNT(*) AS num_elderly_patients_with_breathing_problems\n",
    "FROM df5\n",
    "WHERE Age_60_above = 'Yes'\n",
    "  AND Corona = 'positive'\n",
    "  AND Shortness_of_breath = 'TRUE';\n",
    "'''\n",
    "result = conn.execute(query).fetchall()\n",
    "print(result)"
   ]
  },
  {
   "cell_type": "code",
   "execution_count": 26,
   "id": "6e35f620",
   "metadata": {},
   "outputs": [
    {
     "name": "stdout",
     "output_type": "stream",
     "text": [
      "[(40139,)]\n"
     ]
    }
   ],
   "source": [
    "#Which symptom was less common among COVID negative people?\n",
    "query = '''\n",
    "SELECT COUNT(*) AS TotalCount\n",
    "FROM df5\n",
    "WHERE\n",
    "    Corona = 'negative'\n",
    "    AND (Cough_symptoms = TRUE OR Fever =TRUE OR Sore_throat = TRUE  OR Shortness_of_breath = TRUE  OR Headache = TRUE );\n",
    "'''\n",
    "\n",
    "result = conn.execute(query).fetchall()\n",
    "print(result)\n"
   ]
  },
  {
   "cell_type": "code",
   "execution_count": null,
   "id": "c69dc96e",
   "metadata": {},
   "outputs": [],
   "source": [
    "#Which three symptoms were more common among COVID positive patients?  write queary\n",
    "query = '''\n",
    "SELECT Cough_symptoms, Fever, Sore_throat, Shortness_of_breath, Headache\n",
    "FROM df5 \n",
    "WHERE Corona = 'positive';\n",
    "'''\n",
    "result = conn.execute(query).fetchall()\n",
    "print(result)"
   ]
  },
  {
   "cell_type": "code",
   "execution_count": null,
   "id": "43b55060",
   "metadata": {},
   "outputs": [],
   "source": [
    "## What are the most common symptoms among COVID positive males whose known contact was abroad?\n",
    "query = '''\n",
    "SELECT\n",
    "    Cough_symptoms,\n",
    "    Fever,\n",
    "    Sore_throat,\n",
    "    Shortness_of_breath,\n",
    "    Headache\n",
    "FROM df5\n",
    "WHERE\n",
    "    Corona = 'positive'\n",
    "    AND Sex = 'male'\n",
    "    AND Known_contact = 'Abroad';\n",
    "'''\n",
    "result = conn.execute(query).fetchall()\n",
    "print(result)"
   ]
  },
  {
   "cell_type": "code",
   "execution_count": null,
   "id": "6d613783",
   "metadata": {},
   "outputs": [],
   "source": []
  }
 ],
 "metadata": {
  "kernelspec": {
   "display_name": "Python 3 (ipykernel)",
   "language": "python",
   "name": "python3"
  },
  "language_info": {
   "codemirror_mode": {
    "name": "ipython",
    "version": 3
   },
   "file_extension": ".py",
   "mimetype": "text/x-python",
   "name": "python",
   "nbconvert_exporter": "python",
   "pygments_lexer": "ipython3",
   "version": "3.11.4"
  }
 },
 "nbformat": 4,
 "nbformat_minor": 5
}
